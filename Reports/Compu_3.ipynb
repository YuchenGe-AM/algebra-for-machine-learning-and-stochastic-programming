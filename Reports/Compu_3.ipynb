{
 "cells": [
  {
   "cell_type": "markdown",
   "id": "c91b451e",
   "metadata": {},
   "source": [
    "# First Week Report\n",
    "\n",
    "$$\\text{Yuchen Ge}$$"
   ]
  },
  {
   "cell_type": "markdown",
   "id": "af3989af",
   "metadata": {},
   "source": [
    "# References\n",
    "\n",
    "[1] Schultz, Rüdiger, et al. “Solving Stochastic Programs with Integer Recourse by Enumeration: A Framework Using Gröbner Basis.” Mathematical Programming, vol. 83, no. 1-3, 1998, pp. 229–252., https://doi.org/10.1007/bf02680560.\n",
    "\n",
    "[2] Conti, Pasqualina, and Carlo Traverso. “Buchberger Algorithm and Integer Programming.” SpringerLink, Springer Berlin Heidelberg, 1 Jan. 1991, https://link.springer.com/chapter/10.1007/3-540-54522-0_102. \n",
    "\n",
    "[3] Kall P. and Wallace S, 'Stochastical Programming'.\n",
    "\n",
    "[4] Cox D., et al. \"Using Algebraic Geometry\".\n",
    "\n",
    "[5] Schultz, Rüdiger. “On Structure and Stability in Stochastic Programs with Random Technology Matrix and Complete Integer Recourse.” Mathematical Programming, vol. 70, no. 1-3, 1995, pp. 73–89., https://doi.org/10.1007/bf01585929. \n",
    "\n",
    "[6] Jsobel. Linear Programming Notes, \"https://econweb.ucsd.edu/~jsobel/172aw02/notes6.pdf\"."
   ]
  },
  {
   "cell_type": "markdown",
   "id": "18033a75",
   "metadata": {},
   "source": [
    "****"
   ]
  },
  {
   "cell_type": "markdown",
   "id": "8046850b",
   "metadata": {},
   "source": [
    "# Stochastical Programming\n",
    "\n",
    "#### Stochastical Programming models decision containing 'options'."
   ]
  },
  {
   "cell_type": "markdown",
   "id": "1d7cc2ff",
   "metadata": {},
   "source": [
    "***Def(4.11)(4.13)[3]*** Multi stage stochastic programming: (Note: two stage being a special case)\n",
    "\n",
    "1. Before knowing random vectors $\\hat{\\xi}_i$，optimize the decisions (**recourse**) $x_i$ we found.\n",
    "\n",
    "2. Knowing random vectors $\\hat{\\xi}_i$ and then calculate the expectation w.r.t. it. \n",
    "\n",
    "with detailed formula below\n",
    "\n",
    "$$\n",
    "\\begin{array}\n",
    "\\text{min} & g_0(x_0)+\\sum E_{\\hat{\\xi}_1 \\hat{\\xi}_2 ... \\hat{\\xi}_{\\tau} }Q_{\\tau}(x_0,x_1,...,x_{\\tau-1},\\hat{\\xi}_1,\\hat{\\xi}_2,...,\\hat{\\xi}_{\\tau}) \\\\\n",
    "\\text{s.t.} & Q_{\\tau}(x_0,x_1,...,x_{\\tau-1},\\hat{\\xi}_1,\\hat{\\xi}_2,...,\\hat{\\xi}_{\\tau})=min_{x_\\tau}\\{q_{\\tau}(x_{\\tau})|g_{\\tau}(x_0,x_1,..,x_{\\tau},,\\hat{\\xi}_1,\\hat{\\xi}_2,...,\\hat{\\xi}_{\\tau})\\leq 0\\} \\\\\n",
    "& x_0\\in X \\\\\n",
    "\\end{array}\n",
    "$$"
   ]
  },
  {
   "cell_type": "markdown",
   "id": "b6c9587a",
   "metadata": {},
   "source": [
    "Remark: \n",
    "1. One should be able to tell the difference of first-stage (i.e. production) costs and second-stage (i.e. recourse) activity.\n",
    "2. not well defined problem (4.1) $\\to$ deterministic equivalent as above.\n",
    "3. A more familiar form **(4.11)** \n",
    "$$\n",
    "\\begin{array}\n",
    "\\text{min} & E_{\\hat{\\xi}}\\{g_0(x,\\hat{\\xi})+Q(x,\\hat{\\xi})\\} \\\\\n",
    "\\text{s.t.} & Q(x,\\hat{\\xi})=min\\{q(y):H_{i}(y)\\geq g_{i}^{+}(x,\\xi),\\forall i\\} \\\\\n",
    "& x\\in X\n",
    "\\end{array}\n",
    "$$\n",
    "\n",
    "4. A more general form **(4.19)**\n",
    "$$\n",
    "\\begin{array}\n",
    "\\text{min} & E_{\\tilde{\\xi}} f_{0}(x, \\tilde{\\xi}) \\\\\n",
    "\\text { s.t. } & E_{\\tilde{\\xi}} f_{i}(x, \\tilde{\\xi}) \\leq 0, i=1, \\cdots, s \\\\\n",
    "& E_{\\tilde{\\xi}} f_{i}(x, \\tilde{\\xi})=0, i=s+1, \\cdots, \\bar{m} \\\\\n",
    "& x \\in X \\subset \\mathbb{R}^{n}\n",
    "\\end{array}\n",
    "$$"
   ]
  },
  {
   "cell_type": "markdown",
   "id": "79225fba",
   "metadata": {},
   "source": [
    "****"
   ]
  },
  {
   "cell_type": "markdown",
   "id": "507dd0fa",
   "metadata": {},
   "source": [
    "# Integer Stochastical Programming"
   ]
  },
  {
   "cell_type": "markdown",
   "id": "4ec7f071",
   "metadata": {},
   "source": [
    "Applying Grobner bases to solve integer linear programs was first proposed in $[2]$. It yields additional information at a possibly high computational cost, so that usually it is an inefficient method to solve the problem for a fixed right-hand side. However, the additional information turns out to be highly beneficial when an integer linear program needs to be solved many times, where each time only the right-hand side parameters are different. Therefore, this method does seem particularly useful for solving stochastic programs with integer recourse. "
   ]
  },
  {
   "cell_type": "markdown",
   "id": "a473ba61",
   "metadata": {},
   "source": [
    "To solve the two-stage stochastic integer programming, a special case of SLP (cf. $[1]$):\n",
    "$$\n",
    "\\begin{array}\n",
    "\\text{min} & \\{c\\cdot x+ Q(x), x\\in C \\} \\quad (1)\\\\\n",
    "\\text{s.t.} & Q(x)=E_{\\sim \\xi} v(Tx-\\xi) \\quad (2)\\\\\n",
    "& v(s)=min\\{ \\tilde{q}y:Wy\\geq s\\} \\quad (3)\n",
    "\\end{array}\n",
    "$$\n",
    "\n",
    "For example, the domain C can be of the form $\\{Ax\\leq b\\}$. Here we change (3) to \n",
    "$$  v(s)=min\\{ \\tilde{q}y:Wy = s, y\\in Z^{\\bar{m}}_{+}\\} \\quad (P)\n",
    "$$\n",
    "compared with the classical\n",
    "$$ min\\{cy:Ay=b, y\\in Z^{n}_{+}\\} \\quad (IP).\n",
    "$$\n"
   ]
  },
  {
   "cell_type": "markdown",
   "id": "5f0b07a8",
   "metadata": {},
   "source": [
    "Throughout $[1]$, we made useful assumptions below:\n",
    "\n",
    "(0) $\\xi$ has finite support $\\mathbb{E}=\\{\\xi^1,\\xi^2,...,\\xi^r\\}$ with corresponding $P^i=P(\\xi=\\xi^i)$ \n",
    "\n",
    "Remark: under mild assumptions, local optimal values and sets of local optimal solutions to Eq. (1) behave stable if the distribution of $\\xi$ is perturbed with respect to the topology of weak convergence of probability measures (Proposition 4.1, [5]). Therefore, it is possible to resort to discrete distributions of\n",
    "when solving Eq. (1).\n",
    "\n",
    "(i) $\\forall s \\exists y \\in Z_{+}^{m} s.t. Wy\\geq s$\n",
    "\n",
    "(ii) $\\exists u \\in \\mathbb{R}_{+}^{p} s.t. W'u \\leq \\tilde{q}$\n",
    "\n",
    "Remark: (i) (ii) leads to $v(Tx-\\xi)\\in \\mathbb{R}$ for all x,$\\xi$. （theorem of complementary slackness, cf. $[6]$）\n",
    "\n",
    "(iii) $|E\\xi|<\\infty$\n",
    "\n",
    "(iv) WLOG, suppose $W\\in \\mathbb{Z}^{p\\times m}$."
   ]
  },
  {
   "cell_type": "markdown",
   "id": "673e9c57",
   "metadata": {},
   "source": [
    "****"
   ]
  },
  {
   "cell_type": "markdown",
   "id": "e6886738",
   "metadata": {},
   "source": [
    "Here we recall BunchBerger Algorithm for Integer linear programs (cf $[4]$ P392)"
   ]
  },
  {
   "cell_type": "markdown",
   "id": "f9dd38f4",
   "metadata": {},
   "source": [
    "1.  Let $k\\left[\\mathrm{x}_{1}, \\ldots, \\mathrm{x}_{d}, \\mathrm{y}_{1}, \\ldots, \\mathrm{y}_{n}\\right]$ written as  $k[\\mathrm{x}, \\mathrm{y}]$.\n",
    "\n",
    "2. Specify a monomial order $\\prec$  in  $k[\\mathrm{x}, \\mathrm{y}]$  that is compatible with  c  and guarantees  x>y .\n",
    "\n",
    "3. Form the ideal  $I=\\left\\langle\\mathrm{x}^{A_{1}}-\\mathrm{y}_{1}, \\ldots, \\mathrm{x}^{A_{n}}-\\mathrm{y}_{n}\\right\\rangle$, where  $A_{i}$  is the  i_th column of  A , and  $\\mathrm{x}^{A_{i}}$  denotes the monomial  $\\mathrm{x}_{1}^{A_{1 i}}\\mathrm{x}_{2}^{A_{2 i}} \\cdots \\cdots \\mathrm{x}_{d}^{A_{d i}}$.\n",
    "\n",
    "4. Compute the (reduced) Gröbner basis  G  of  I  with respect to  $\\prec$  using Buchberger's algorithm.\n",
    "5. Divide  $\\mathrm{x}^{b}$  by  G , resulting in the remainder  $r_{G}\\left(\\mathrm{x}^{b}\\right)$ .\n",
    "6. If  $r_{G}\\left(\\mathrm{x}^{b}\\right) \\in k[\\mathrm{y}]$  then the remainder is a monomial whose exponent vector is an optimal solution to (IP), otherwise (IP) has no feasible solution."
   ]
  },
  {
   "cell_type": "markdown",
   "id": "210c9fb8",
   "metadata": {},
   "source": [
    "****"
   ]
  },
  {
   "cell_type": "markdown",
   "id": "fea8fba9",
   "metadata": {},
   "source": [
    "From the above, we see that after computing the (reduced) Grobner basis corresponding to $(P)$ only once, each evaluation of the value function\n",
    "$$ v(s)=min\\{ \\tilde{q}y:Wy = s, y\\in Z^{\\bar{m}}_{+}\\} \\quad (P)\n",
    "$$\n",
    "is cheap with varying $s$ **since the ideal $I$ is invariant**!"
   ]
  },
  {
   "cell_type": "markdown",
   "id": "98cdef83",
   "metadata": {},
   "source": [
    "****"
   ]
  },
  {
   "cell_type": "markdown",
   "id": "e4c6dfc2",
   "metadata": {},
   "source": [
    "We know that there exist the set of candidates\n",
    "\n",
    "**Def 3.1** Set of Candidates $V=\\{\\text{vertices of } C(x)\\bigcap C\\}$\n",
    "\n",
    "and **Thm 3.1** guarrentees us that we only need to find $argmin\\{cx+Q(x)\\}$ within V.\n",
    "\n",
    "Given the lemma below\n",
    "\n",
    "**Lemma 4.1** $\\bar{f}\\leq f \\implies argmin\\{f\\}\\subset\\{\\bar{f}\\leq f(\\bar{x})\\}$\n",
    "\n",
    "and we can further restrict the V to finite sets with the help of correspondiing level sets $L(c\\bar{x}+Q(\\bar{x}))=\\{x:cx+Q_R(x)\\leq c\\bar{x}+Q(\\bar{x})\\}$, where the subscript R denotes continuous relaxation by applying above Lemma."
   ]
  },
  {
   "cell_type": "markdown",
   "id": "53e03eee",
   "metadata": {},
   "source": [
    "****"
   ]
  },
  {
   "cell_type": "markdown",
   "id": "32a68ef2",
   "metadata": {},
   "source": [
    "Finally the algorithm follows\n",
    "1. Compute a Gröbner basis for the second stage integer linear programming problem. \n",
    "\n",
    "2. Solve the continuous relaxation of (1). Let  $x^{R}$  be an optimal solution.\n",
    "\n",
    "3. Compute the objective value  $c x^{R}+Q\\left(x^{R}\\right)$ (using the Gröbner basis), and construct the (partial) level set  $L\\left(c x^{R}+Q\\left(x^{R}\\right)\\right)$ .\n",
    "\n",
    "4. For every candidate point in  $L\\left(c x^{R}+Q\\left(x^{R}\\right)\\right)$  evaluate the objective function, using the Gröbner basis to compute the expected value function  Q . The candidate points are enumerated according to the scheme proposed in Section 5 of [1]. A candidate with smallest function value is an optimal solution to the problem.\n",
    "\n",
    "Under our assumption that the set  $L\\left(c x^{R}+Q\\left(x^{R}\\right)\\right)$  is bounded, the number of candidate points to be evaluated in step 4 is finite. Therefore, the algorithm determines an optimal solution of $ \\mathrm{Eq} . (1)$ in finite time."
   ]
  },
  {
   "cell_type": "markdown",
   "id": "110651b0",
   "metadata": {},
   "source": [
    "Finally, we give the concept of Recourse Grobner Basis:\n",
    "\n",
    "**Def 1(new results)** The Recourse Grobner Basis is the Grobner Basis used in step 4.\n",
    "\n",
    "**Prop 2(new results)** The Recourse Grobner Basis only manipulates the row vectors of $W$.\n",
    "\n",
    "**Proof:** We have \n",
    "$$\n",
    "\\begin{array}\n",
    "a\n",
    "\\sum_{i} P_{i}*min\\{\\tilde{q}y:Wy\\geq Tx-\\xi^{i}\\} & = \\sum_{i} P_{i}*max\\{(Tx-\\xi^{i})y:W'y\\leq \\tilde{q}\\}\\\\\n",
    "& = -\\sum_{i} P_{i}*min\\{(Tx-\\xi^{i})y:W'y\\leq \\tilde{q}\\}\\\\\n",
    "\\end{array}\n",
    "$$\n",
    "\n",
    "From the formula above, we immediately arrive at the concolusion."
   ]
  },
  {
   "cell_type": "markdown",
   "id": "b88ed084",
   "metadata": {},
   "source": [
    "****"
   ]
  },
  {
   "cell_type": "code",
   "execution_count": null,
   "id": "30c6000f",
   "metadata": {},
   "outputs": [],
   "source": []
  }
 ],
 "metadata": {
  "kernelspec": {
   "display_name": "Python 3",
   "language": "python",
   "name": "python3"
  },
  "language_info": {
   "codemirror_mode": {
    "name": "ipython",
    "version": 3
   },
   "file_extension": ".py",
   "mimetype": "text/x-python",
   "name": "python",
   "nbconvert_exporter": "python",
   "pygments_lexer": "ipython3",
   "version": "3.8.13"
  }
 },
 "nbformat": 4,
 "nbformat_minor": 5
}
