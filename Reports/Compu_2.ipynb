{
 "cells": [
  {
   "cell_type": "markdown",
   "id": "1a7568a9",
   "metadata": {},
   "source": [
    "# Report of First Week\n",
    "\n",
    "$$\\text{Yuchen Ge} $$"
   ]
  },
  {
   "cell_type": "markdown",
   "id": "99dd1c12",
   "metadata": {},
   "source": [
    "# References\n",
    "\n",
    "[1] Thomas, Rekha R. “A Geometric Buchberger Algorithm for Integer Programming.” Mathematics of Operations Research, vol. 20, no. 4, 1995, pp. 864–884., https://doi.org/10.1287/moor.20.4.864.\n",
    "\n",
    "[2] Tayur, Sridhar R., et al. “An Algebraic Geometry Algorithm for Scheduling in Presence of Setups and Correlated Demands.” Mathematical Programming, vol. 69, no. 1-3, 1995, pp. 369–401., https://doi.org/10.1007/bf01585566.\n",
    "\n",
    "[3] Cox D., J. Little, et al.  \"Ideals Vairieties and Algorithms.\"\n",
    "\n",
    "[4] Biase, Fausto Di, and Rüdiger Urbanke. “An Algorithm to Calculate the Kernel of Certain Polynomial Ring Homomorphisms.” Experimental Mathematics, vol. 4, no. 3, 1995, pp. 227–234., https://doi.org/10.1080/10586458.1995.10504323.\n",
    "\n",
    "[5] Cox D., et al.  \"Using Algebraic Geometry\".\n",
    "\n",
    "[6] J. Herzog, \"Generators and relations of abelian semigroups and semigroup rings\". Manuscripta Math. 3, 1970, pp. 175-193."
   ]
  },
  {
   "cell_type": "markdown",
   "id": "15153279",
   "metadata": {},
   "source": [
    "# Ideas"
   ]
  },
  {
   "cell_type": "markdown",
   "id": "9a6b5b7a",
   "metadata": {},
   "source": [
    "To solve the problem $IP_{\\{A,c\\}}(b)$$^{[1]}$:\n",
    "$$\\text{min } \\{cx: Ax=b \\text{ and } x\\in N^{n}\\}\n",
    "$$\n",
    "\n",
    "where $A,b,c$ are all integer matrices. WLOG, we set out the problem to be bounded.\n",
    "\n",
    "First we need to transfer $IP_{A,c}$ to $IP_{A,>_{c}}$ where $>_c$ denotes the complete total order.\n",
    "\n",
    "**Def 1** $>_c$ is the complete total order satistifying:\n",
    "1. first compares two points by cost.\n",
    "2. break ties by the previously assigned term order (monomial order) $>$.\n",
    "\n",
    "\n",
    "Note that $>_c$ satisties (**Attention: it's not a term order but almost is!**)\n",
    "1. $>_c$ is a total order on $N^{n}$.\n",
    "2. $>_c$ is cmpatible with sum.\n",
    "\n",
    "Therefore we may make use of the refinement so as to get to the unique optimum."
   ]
  },
  {
   "cell_type": "markdown",
   "id": "cd3cbbb3",
   "metadata": {},
   "source": [
    "****"
   ]
  },
  {
   "cell_type": "markdown",
   "id": "28024986",
   "metadata": {},
   "source": [
    "The central ingredient is the concept of test set below. If we know a feasible solution to this program$^{[2]}$, it gives an obvious algorithm to solve an integer program by lowering the cost in case an optimum is not achieved. \n",
    "\n",
    "**Def 2** We define test set $\\mathscr{G}_{>_{*}}\\in \\mathbb{Z}^{n}$ satistifies \n",
    "1. $\\forall \\alpha \\text{ non-optimal }  \\exists g\\in \\mathscr{G}_{>_{*}}$: $\\alpha-g\\text{ feasible} \\text{ and } \\alpha >_{c} \\alpha -g$\n",
    "2. $\\forall \\beta \\text{ optimal }  \\forall g\\in \\mathscr{G}_{>_{*}}$: $\\beta-g\\text{ infeasible}$"
   ]
  },
  {
   "cell_type": "markdown",
   "id": "4b569189",
   "metadata": {},
   "source": [
    "**Thm/Algorithm 1** $\\exists$ testing set."
   ]
  },
  {
   "cell_type": "markdown",
   "id": "0c2bb029",
   "metadata": {},
   "source": [
    "**Proof 1 (Geometric):** First we construct $\\mathscr{G}_{>_{c}}=\\{(\\alpha(i)-\\beta(i)),i=1,2,...,t\\}$ where $\\alpha(i)$ is given below and $\\beta(i)$ is the correpsponding unique optimum point of $IP_{A,>_c}(A \\alpha(i))$.\n",
    "\n",
    "**Lemma 1$^{[1]}$**: $\\exists \\alpha_{i}$ s.t. $\\{\\text{non-optimal solutions of all fibres}\\}=\\bigcup_{i=1}^{t}(\\alpha(i)+N^{n})$  (immediate consequence of Gordan Dickson Lemma$^{[3]}$)\n",
    "\n",
    "We can therefore draw an arrow from $\\alpha(i)$ to $\\beta(i)$ and translate it to all feasible points in $IP_{\\{A,c\\}}$ such that the translated vector is incident at the corresponding feasible points. By this construction we get to a connected digraph with the unique sink at the optimum point.\n",
    "\n",
    "It's an easy corollary that $\\mathscr{G}_{>_{c}}$ is a test set."
   ]
  },
  {
   "cell_type": "markdown",
   "id": "afff1953",
   "metadata": {},
   "source": [
    "**Proof 2 (Algebraic):** We canonically identify the below two terms by\n",
    "\\begin{align*}\n",
    "log: \\text{ monomials of } k[x_1,x_2,...,x_n] & \\to N^{n} \\\\\n",
    " x^{\\alpha} & \\rightarrowtail \\alpha\n",
    "\\end{align*}\n",
    "\n",
    "\n",
    "and the corresponding term order is also identified. (Actually not a term order)\n",
    "\n",
    "Then we only need to see the map (We denote $A=[A_1,A_2,...,A_n]$ by column blocking and $y^{A_1}$ short for a monomial of $k[y_1,y_2,...,y_m]$ where m is the column number of A)\n",
    "\\begin{align*}\n",
    "\\pi:  k[x_1,x_2,...,x_n] & \\to k[y^{A_1},y^{A_2},...,y^{A_n}] \\\\\n",
    " x_{i} & \\rightarrowtail y^{A_i}\n",
    "\\end{align*}\n",
    "\n",
    "****\n",
    "\n",
    "Moreover we have \n",
    "\n",
    "**Prop 2:(new results by Yuchen Ge)** $Ker(\\pi) = <(x^{\\alpha(i)}-x^{\\beta(i)}),i=1,2,...,t>$. And actually $\\{x^{\\alpha(i)}-x^{\\beta(i)},i=1,2,...,s\\}$ forms a reduced Grobner basis. (That explains how the name births.)\n",
    "\n",
    "**Proof:** First we define a $\\mathbb{Z}$-linear mapping\n",
    "\n",
    "\\begin{align*}\n",
    " \\pi_*:  \\mathbb{Z}^{n} & \\to\\mathbb{Z}^{m} \\\\\n",
    " u & \\rightarrowtail  Au\n",
    "\\end{align*}\n",
    "\n",
    "and \n",
    "\n",
    "$$\\phi(u):=x^{u^+}-x^{u^-}$$\n",
    "\n",
    "simply based on a telescopic identity (Herzog [6]), we have $Ker(\\pi)=<\\phi(Ker(\\pi_*))>$.\n",
    "\n",
    "It's trivial that $x^{\\alpha_i}-x^{\\beta_i}\\in Ker(\\pi)$ since $A\\alpha_i=A\\beta_i$.\n",
    "\n",
    "Since $\\alpha_i >_c \\beta_i$ for all $i= 1,...,s$, we have that \n",
    "$$ int_{>_c}(x^{\\alpha_i}-x^{\\beta_i})=x^{\\alpha_i} \\implies \\big<x^{\\alpha_i}\\big> \\subset int_{>_c}(Ker(\\pi)).\n",
    "$$\n",
    "\n",
    "And actually then it's a routine to show the reversed direction and that $\\big<x^{\\alpha_i}-x^{\\beta_i}\\big>$ is the reduced grobner basis of $Ker(\\pi)$, having proved above.\n",
    "\n",
    "****"
   ]
  },
  {
   "cell_type": "markdown",
   "id": "88dca3aa",
   "metadata": {},
   "source": [
    "From $[4]$, we have an important observation.\n",
    "\n",
    "**Thm 2:** Let $K \\in \\mathbb{N}^{k\\times n}$. Then $\\phi(K)=\\phi(span(K))$\n",
    "\n",
    "We let K be a basis for $Ker(\\pi)$ consisting of k elements (to simplify notation, we will use K to denote a\n",
    "basis for $Ker(\\pi_*)$ as well as the matrix in $\\mathbb{Z}^{k\\times n}$ whose rows are the vectors in K).\n",
    "\n",
    "**def 3:** For $K,K'\\in \\mathbb{Z}^{k\\times n}$, define $K'\\sim K$ if $\\text{span} K' = \\text{span} K$, i.e. $K' = AK$ for some $A\\in \\mathbb{Z}^{k\\times k}$ s.t. $|\\text{det}(A)|=1$.\n",
    "\n",
    "From definition we immediately get \n",
    "\n",
    "**Prop 3:** Let $K\\in \\mathbb{Z}^{k\\times n}$. Then there exists a $\\tilde{K}\\sim K$ such that each column of $\\tilde{K}$ is either in $\\mathbb{N}^k$ or $(-\\mathbb{N})^k$.\n",
    "\n",
    "From **Prop 3**, we get to $\\tilde{K}$. Then let $J \\subset \\{1, 2, ..., n\\}$ be the index set of all columns\n",
    "with negative entries, and let $K'$ be the matrix obtained from $\\tilde{K}$ by reversing all signs in the columns\n",
    "indexed by J.\n",
    "\n",
    "Here's another important observation. First we define $T_j:\\mathbb{Z}^n \\to \\mathbb{Z}^n $ as the operator that switches the sign of the j-th component of the vectors in $\\mathbb{Z}^n$.\n",
    "\n",
    "**Thm 3:** Let  $K \\in \\mathbb{Z}^{k \\times n}$  and assume that there exists a finite set  $U \\subset \\operatorname{span} K$  such that  $\\langle\\varphi(U)\\rangle=\\langle\\varphi(\\operatorname{span} K)\\rangle$. If G  is the reduced Gröbner basis for  $\\langle\\varphi(U)\\rangle$, with respect to a term order that eliminates  $x_{j}$ , then $ \\left\\langle T_{j} G\\right\\rangle=\\left\\langle\\varphi\\left(\\operatorname{span}\\left(T_{j} K\\right)\\right)\\right\\rangle$.\n",
    "\n",
    "\n",
    "We are now ready to describe our algorithm to calculate  $\\operatorname{ker} \\pi$. Let K be a basis for $\\operatorname{ker}  \\pi_{*}$. By Lemma  3.8  there exists an equivalent basis  $K^{\\prime}$  such that each column of  $K^{\\prime}$  is either in  $\\mathbb{N}^{n}$  or in  $(-\\mathbb{N})^{n}$. Let  $J \\subseteq\\{1,2, \\ldots, n\\}$  be the index set of all columns with negative entries, and let  $K_{J}^{\\prime}$  be the matrix obtained from  $K^{\\prime}$  by reversing all signs in the columns indexed by J. By Theorem 2, \n",
    "\n",
    "$$\\left\\langle\\varphi\\left(K_{J}^{\\prime}\\right)\\right\\rangle=\\left\\langle\\varphi\\left(\\operatorname{span} K_{J}^{\\prime}\\right)\\right\\rangle .$$\n",
    "\n",
    "If  $J=\\varnothing$  we are done. If  $J \\neq \\varnothing$ , let  $j$  be any element of  $J$. Theorem 3 enables us to derive from  $\\varphi\\left(K_{J}^{\\prime}\\right)$  a finite set of generators for  $\\left\\langle\\varphi\\left(\\operatorname{span} K_{J \\backslash\\{j\\}}^{\\prime}\\right)\\right\\rangle$. Compute the Gröbner basis for  $\\varphi\\left(K_{J}^{\\prime}\\right)$  with respect to a term order that eliminates  $x_{j}$  and apply the operator  $T_{j}$  to it. Proceeding recursively, we can calculate a finite set of generators for  $\\varphi\\left(\\operatorname{span} K_{J}^{\\prime}\\right)$, which by Theorem 2 equals $\\operatorname{ker} \\pi$ ."
   ]
  },
  {
   "cell_type": "markdown",
   "id": "1c3f2b5c",
   "metadata": {},
   "source": [
    "**Thm 4(new results by Yuchen Ge):** The proposed algorithm requires the determination of at most $[\\frac{1}{2}n]$ Grobner bases over $k[x_1,x_2,...,x_n]$.\n",
    "\n",
    "**Proof:** Actually the number of determination is at most the number of the elements of $J$.\n",
    "\n",
    "Remark: based on the (empirical) fact that the complexity of the\n",
    "Buchberger algorithm is a strongly growing function of the number of variables, we conclude that it's in general more efficient to evaluate $[\\frac{1}{2}n]$ Grobner bases over $k[x_1,x_2,...,x_n]$ than one Grobner basis over $k[x_1,x_2,...,x_n,y_1,y_2,...,y_m]$."
   ]
  },
  {
   "cell_type": "markdown",
   "id": "af2a881e",
   "metadata": {},
   "source": [
    "****"
   ]
  },
  {
   "cell_type": "markdown",
   "id": "6a121ff4",
   "metadata": {},
   "source": [
    "Remark: \n",
    "1. We can see therefore that geometric and algebraic methods are actually the same connected by the central mappping $\\phi$. (Meanwhile we denote $\\phi_*$ for the log-identified version of $\\phi$)\n",
    "2. The algorithm in P392 of [5] is based on the Elimination lemma applied to the  $k[x_1,x_2,..,x_n,y_1,y_2,...,y_m]$, which is not applicable in large scale. And so is the old fashioned Geometric Buchberger’s algorithm$^{[1]}$. So from literature [4], we give a new idea of algorithm below\n",
    "$$\\text{Finding Reduced Grobener Basis}\\to \\text{Graph Chasing}$$\n",
    "\n",
    "The detailed algorithm to solve the IP is gathered as follows.\n",
    "\n",
    "**Algorithm 2(new results by Yuchen Ge):**\n",
    "1. Calculate a basis $K$ for $\\operatorname{ker} \\phi_{*}$.\n",
    "2. Find an equivalent basis  $K^{\\prime}$  such that all rows of  $K^{\\prime}$  lie in the same orthant.\n",
    "3. Let  $J$  be the index set of all columns with negative entries and let  $K_{J}^{\\prime}$  be the matrix obtained from  $K^{\\prime}$  by reversing the signs of the columns indexed by  $J$. \n",
    "4. Let $G_{J}=\\varphi\\left(K_{J}^{\\prime}\\right)$.\n",
    "5. Until  $J=\\varnothing$ , repeat this: Take  $j \\in J$  and let  $G_{J \\backslash\\{j\\}}$  be the result of $T_{j}$ operating on the reduced Gröbner basis for  $<G_{J}>$ with respect to a term order that eliminates  $x_{j}$ ; then let  $J \\leftarrow   J \\backslash\\{j\\}$ .\n",
    "6. Output  $G_{\\varnothing}$ , a generating set for  $\\operatorname{ker} \\phi $, which is the $(x^{\\alpha(i)}-x^{\\beta(i)})$ we needed.\n",
    "7. Calculate the reduced grobner basis of $G_{\\varnothing}$, which is the $(x^{\\alpha(i)}-x^{\\beta(i)})$ we needed.\n",
    "8. Graph Chasing.\n",
    "\n",
    "\n",
    "All that left to do is a simulation."
   ]
  },
  {
   "cell_type": "markdown",
   "id": "e239c6a6",
   "metadata": {},
   "source": [
    "****"
   ]
  },
  {
   "cell_type": "markdown",
   "id": "2c40055e",
   "metadata": {},
   "source": [
    "**Thm 5 (new results by Yuchen Ge):** By giving different term order $>$ for $>_c$, we can get to all optimum points of the problem $IP_{A,c}$\n",
    "\n",
    "**Proof:** We first give a general method for specifying monomial orders on $k[x_1, . . . , x_n]$. \n",
    "\n",
    "Given any $m × n$ real matrix M and write the rows of M as $w_1, . . . , w_m$. Then we can compare monomials $x^α$ and $x^β$ first comparing their $w_1$-weights $α·w_1$ and $β·w_1$. If $α·w_1>β·w_1$ or $α·w_1<β·w_1$, then we order the monomials accordingly. If $α · w_1 = β · w_1$, then we continue to the later rows, breaking ties successively with the $w_2$-weights, the $w_3$-weights, and so on through the $w_m$-weights. This process defines an order relation $>_M$. In symbols: $x^α >_M x^β$ if there is an $l$ ≤ m such that $α·w_i= β·w_i$ for i = $1$, . . . , $l−1$, but $α·w_l= β·w_l$.\n",
    "\n",
    "**Lemma 3:** Let M be an $m × n$ real matrix with nonnegative entries s.t. $ker(M) \\cap \\mathbb{Z}^{n}= {0}$.Then $>_M$ is a monomial order on $k[x_1, . . . , x_n]$. (See Exercise 8 of §2 of [5].)\n",
    "\n",
    "Suppose the optimum of the $IP_{A,c}$ forms a set $\\{x_1,x_2,...,x_m\\}$. Then it's clear $\\forall j$ $ \\exists c>0( c\\cdot x_j\\neq c\\cdot x_i,\\forall i\\neq j$). Actually we can prove it by contradiction: since $\\sum_{i}m(\\{c:c\\cdot x_j= c\\cdot x_i\\})$=0, there must exist some c such that $c\\cdot x_j\\neq c\\cdot x_i,\\forall i\\neq j$.\n",
    "\n",
    "Therefore we can find the interval ($a_j,\\tilde{a}_j$] $\\subset \\mathbb{R}$ s.t.\n",
    "1. $c\\cdot x_i \\in$ ($a_i,\\tilde{a}_i$], $\\forall i$. \n",
    "2. ($a_j,\\tilde{a}_j$] $\\cap$  ($a_i,\\tilde{a}_i$]=$\\emptyset,\\forall i\\neq j$. \n",
    "\n",
    "Then we define a total order on $\\mathbb{R}$, denoted by $>_{s}$ s.t.\n",
    "1. Define $ A=\\big(\\mathbb{R}-\\bigcup_{i\\neq j}$($a_i,\\tilde{a}_i$]$\\big)$, $B = \\bigcup_{i\\neq j}$($a_i,\\tilde{a}_i$], and $C =$($a_j,\\tilde{a}_j$].\n",
    "2. All the elements in $A,B,C$ are compared in the usual way.\n",
    "3. If $a\\in A,b\\in B,c\\in C$, a and b are compared in the usual way; $b<c$; $a<c$ iff $\\exists d\\in B(a \\leq d)$.\n",
    "\n",
    "Therefore we get to a total order on $\\mathbb{R}$ such that $b<_{s}c$ whenever $b\\in B$ and $c\\in C$. Applying the order $>_{s}$ to build up the monomial order on $k[x_1, . . . , x_n]$ as follows. We let\n",
    "$$M=\\begin{pmatrix} c^T \\\\ ... \\end{pmatrix}$$\n",
    "where $...$ is filled with positive numbers such that M satisfies the conditions of lemma 3.\n",
    "\n",
    "Finally we can form the composite order $>_c$ of cost and $>_M$, which satisfies $x_j >_{c} x_i,\\forall j\\neq i$.\n",
    "\n",
    "**Remark:** The results above is only of theoretical value since in reality we don't know how to choose the interval ($a_j,\\tilde{a}_j$]."
   ]
  },
  {
   "cell_type": "markdown",
   "id": "658ba9b8",
   "metadata": {},
   "source": [
    "****"
   ]
  },
  {
   "cell_type": "code",
   "execution_count": null,
   "id": "c0087765",
   "metadata": {},
   "outputs": [],
   "source": []
  }
 ],
 "metadata": {
  "kernelspec": {
   "display_name": "Python 3",
   "language": "python",
   "name": "python3"
  },
  "language_info": {
   "codemirror_mode": {
    "name": "ipython",
    "version": 3
   },
   "file_extension": ".py",
   "mimetype": "text/x-python",
   "name": "python",
   "nbconvert_exporter": "python",
   "pygments_lexer": "ipython3",
   "version": "3.8.13"
  }
 },
 "nbformat": 4,
 "nbformat_minor": 5
}
