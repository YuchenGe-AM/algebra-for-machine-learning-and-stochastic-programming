{
 "cells": [
  {
   "cell_type": "code",
   "execution_count": 65,
   "id": "ceeea0e2",
   "metadata": {},
   "outputs": [],
   "source": [
    "from sympy import *\n",
    "\n",
    "def s_polynomial(f, g):\n",
    "    # implementation of s-polynomials\n",
    "    return expand(lcm(LM(f), LM(g))*(1/LT(f)*f - 1/LT(g)*g))"
   ]
  },
  {
   "cell_type": "code",
   "execution_count": 66,
   "id": "10713c65",
   "metadata": {},
   "outputs": [
    {
     "data": {
      "text/latex": [
       "$\\displaystyle - 2 x y + 2 y^{3}$"
      ],
      "text/plain": [
       "-2*x*y + 2*y**3"
      ]
     },
     "execution_count": 66,
     "metadata": {},
     "output_type": "execute_result"
    }
   ],
   "source": [
    "# example\n",
    "x, y, z = symbols('x y z')\n",
    "F = [f1, f2] = [x*y - 2*y, x**2 - 2*y**2]\n",
    "\n",
    "# find leading term\n",
    "LT(f1, x, y, order='lex')\n",
    "\n",
    "# find s-polynomial and apply buchberger algorithm\n",
    "s_polynomial(f1, f2)"
   ]
  },
  {
   "cell_type": "code",
   "execution_count": 67,
   "id": "90fb8ac9",
   "metadata": {},
   "outputs": [
    {
     "data": {
      "text/plain": [
       "[x**2 - 2*y**2, x*y - 2*y, y**3 - 2*y]"
      ]
     },
     "execution_count": 67,
     "metadata": {},
     "output_type": "execute_result"
    }
   ],
   "source": [
    "a=groebner([f1, f2], x, y, order='lex')\n",
    "list(a)"
   ]
  },
  {
   "cell_type": "code",
   "execution_count": null,
   "id": "9901c6c8",
   "metadata": {},
   "outputs": [],
   "source": []
  }
 ],
 "metadata": {
  "kernelspec": {
   "display_name": "Python 3",
   "language": "python",
   "name": "python3"
  },
  "language_info": {
   "codemirror_mode": {
    "name": "ipython",
    "version": 3
   },
   "file_extension": ".py",
   "mimetype": "text/x-python",
   "name": "python",
   "nbconvert_exporter": "python",
   "pygments_lexer": "ipython3",
   "version": "3.8.13"
  }
 },
 "nbformat": 4,
 "nbformat_minor": 5
}
