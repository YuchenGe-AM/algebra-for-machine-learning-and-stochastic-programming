{
 "cells": [
  {
   "cell_type": "markdown",
   "id": "b8f795bd",
   "metadata": {},
   "source": [
    "# Third Week Report"
   ]
  },
  {
   "cell_type": "markdown",
   "id": "4e94465d",
   "metadata": {},
   "source": [
    "$$ \\text{Yuchen Ge} $$"
   ]
  },
  {
   "cell_type": "markdown",
   "id": "f1d71ed8",
   "metadata": {},
   "source": [
    "# References\n",
    "\n",
    "[1] Carøe, Claus C., and Rüdiger Schultz. “Dual Decomposition in Stochastic Integer Programming.” Operations Research Letters, vol. 24, no. 1-2, 1999, pp. 37–45., https://doi.org/10.1016/s0167-6377(98)00050-9. "
   ]
  },
  {
   "cell_type": "markdown",
   "id": "713264b3",
   "metadata": {},
   "source": [
    "# Intro"
   ]
  },
  {
   "cell_type": "markdown",
   "id": "1a21b17b",
   "metadata": {},
   "source": [
    "We consider the following two-stage stochastic program with integer recourse:\n",
    "\n",
    "$$z=\\max \\{c x+Q(x): A x \\leqslant b, x \\in X\\} \\quad \\quad (1)$$\n",
    "\n",
    "where  $Q(x)=\\mathbb{E}_{\\xi} \\phi(h(\\xi)-T(\\xi) x)$  and  $\\phi(s)=\\max \\{q(\\xi) y: W y \\leqslant s, y \\in Y\\}$, in which $s \\in \\mathbb{R}^{m_{2}}$. \n",
    "\n",
    "Here \n",
    "1. $c$ is a known  $n_{1}$-dimensional vector,  A  and  W  are (rational) matrices of size  $m_{1} \\times n_{1}$  and  $m_{2} \\times n_{2}$ , respectively, and  b  is a known  $m_{1} $-vector. \n",
    "2. The vector  $\\xi$  is a random variable defined on some probability space  ( $\\Xi, \\mathfrak{F}, P$).\n",
    "3. The sets  $X \\subseteq \\mathbb{R}_{+}^{n_{1}}$  and  $Y \\subseteq \\mathbb{R}_{+}^{n_{2}}$  denote restrictions that require some or all of the variables to be integer or binary. "
   ]
  },
  {
   "cell_type": "markdown",
   "id": "e309d965",
   "metadata": {},
   "source": [
    "Assume that we only have a finite number r of scenarios. In the following, we use the notation ( $q^j; h^j; T^j$ ) for the $j$-th scenario having probability $p^j$. Set \n",
    "\\begin{aligned}\n",
    "S^{j}:=&\\left\\{\\left(x, y^{j}\\right): A x \\leqslant b, x \\in X\\right.\\\\\n",
    "&\\left.T^{j} x+W y^{j} \\leqslant h^{j}, y^{j} \\in Y\\right\\}\n",
    "\\end{aligned}\n",
    "\n",
    "Therefore (1) is equivalent to\n",
    "\n",
    "\\begin{array}{c}\n",
    "z=\\max \\left\\{c x+\\sum_{j=1}^{r} p^{j} q^{j} y^{j}:\\left(x, y^{j}\\right) \\in S^{j}\\right., j=1, \\ldots, r\\}\n",
    "\\end{array}"
   ]
  },
  {
   "cell_type": "markdown",
   "id": "08e6c963",
   "metadata": {},
   "source": [
    "Then we can add lagrange relaxation $\\lambda (H_j x_j)$ as follows."
   ]
  },
  {
   "cell_type": "code",
   "execution_count": null,
   "id": "4b78405a",
   "metadata": {},
   "outputs": [],
   "source": []
  }
 ],
 "metadata": {
  "kernelspec": {
   "display_name": "Python 3",
   "language": "python",
   "name": "python3"
  },
  "language_info": {
   "codemirror_mode": {
    "name": "ipython",
    "version": 3
   },
   "file_extension": ".py",
   "mimetype": "text/x-python",
   "name": "python",
   "nbconvert_exporter": "python",
   "pygments_lexer": "ipython3",
   "version": "3.8.13"
  }
 },
 "nbformat": 4,
 "nbformat_minor": 5
}
