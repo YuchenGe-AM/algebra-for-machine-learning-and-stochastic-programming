{
 "cells": [
  {
   "cell_type": "code",
   "execution_count": 2,
   "id": "1487dbbc",
   "metadata": {},
   "outputs": [],
   "source": [
    "# GEKKO is a Python package for machine learning and \n",
    "# optimization of mixed-integer and differential algebraic equations. \n",
    "from gekko import GEKKO\n",
    "import time"
   ]
  },
  {
   "cell_type": "code",
   "execution_count": null,
   "id": "2e03d269",
   "metadata": {},
   "outputs": [],
   "source": []
  },
  {
   "cell_type": "markdown",
   "id": "253268ef",
   "metadata": {},
   "source": [
    "# Experiment II"
   ]
  },
  {
   "cell_type": "code",
   "execution_count": 3,
   "id": "b778f697",
   "metadata": {},
   "outputs": [
    {
     "name": "stdout",
     "output_type": "stream",
     "text": [
      "0 --- 15.715543031692505 seconds ---\n",
      "3 --- 30.975470781326294 seconds ---\n",
      "6 --- 48.588412046432495 seconds ---\n",
      "9 --- 63.331552028656006 seconds ---\n",
      "12 --- 78.38781595230103 seconds ---\n",
      "15 --- 94.04795598983765 seconds ---\n",
      "18 --- 109.2802140712738 seconds ---\n",
      "21 --- 124.35401201248169 seconds ---\n",
      "24 --- 139.72216510772705 seconds ---\n",
      "27 --- 155.79237580299377 seconds ---\n",
      "30 --- 171.14676213264465 seconds ---\n",
      "33 --- 186.2668149471283 seconds ---\n",
      "36 --- 202.3797881603241 seconds ---\n",
      "39 --- 218.15741086006165 seconds ---\n",
      "42 --- 232.80531787872314 seconds ---\n",
      "45 --- 248.15426993370056 seconds ---\n",
      "48 --- 263.6144788265228 seconds ---\n",
      "51 --- 279.0804579257965 seconds ---\n",
      "54 --- 295.3095350265503 seconds ---\n",
      "57 --- 310.1088500022888 seconds ---\n",
      "60 --- 326.90680289268494 seconds ---\n",
      "63 --- 343.64061999320984 seconds ---\n",
      "66 --- 358.43686604499817 seconds ---\n",
      "69 --- 373.28667974472046 seconds ---\n",
      "72 --- 388.7461278438568 seconds ---\n",
      "75 --- 405.02677392959595 seconds ---\n",
      "78 --- 421.93742299079895 seconds ---\n",
      "81 --- 437.62464213371277 seconds ---\n",
      "84 --- 452.62232780456543 seconds ---\n",
      "87 --- 468.99135994911194 seconds ---\n",
      "90 --- 484.17421793937683 seconds ---\n",
      "93 --- 500.61884093284607 seconds ---\n",
      "96 --- 516.8389408588409 seconds ---\n"
     ]
    },
    {
     "ename": "Exception",
     "evalue": " @error: Insufficient Model\n Model must contain at least 1 variable and 1 equation\n STOPPING...\n",
     "output_type": "error",
     "traceback": [
      "\u001b[0;31m---------------------------------------------------------------------------\u001b[0m",
      "\u001b[0;31mException\u001b[0m                                 Traceback (most recent call last)",
      "Input \u001b[0;32mIn [3]\u001b[0m, in \u001b[0;36m<cell line: 2>\u001b[0;34m()\u001b[0m\n\u001b[1;32m     35\u001b[0m m\u001b[38;5;241m.\u001b[39mEquation(\u001b[38;5;241m1\u001b[39m\u001b[38;5;241m*\u001b[39mx5 \u001b[38;5;241m+\u001b[39m \u001b[38;5;241m1\u001b[39m\u001b[38;5;241m*\u001b[39mx6 \u001b[38;5;241m-\u001b[39m \u001b[38;5;241m1\u001b[39m\u001b[38;5;241m*\u001b[39mx9 \u001b[38;5;241m==\u001b[39m \u001b[38;5;241m0\u001b[39m)\n\u001b[1;32m     36\u001b[0m m\u001b[38;5;241m.\u001b[39mObj(\u001b[38;5;241m1\u001b[39m\u001b[38;5;241m*\u001b[39mx1 \u001b[38;5;241m+\u001b[39m \u001b[38;5;241m2\u001b[39m\u001b[38;5;241m*\u001b[39mx2 \u001b[38;5;241m+\u001b[39m \u001b[38;5;241m3\u001b[39m\u001b[38;5;241m*\u001b[39mx3 \u001b[38;5;241m+\u001b[39m \u001b[38;5;241m4\u001b[39m\u001b[38;5;241m*\u001b[39mx4 \u001b[38;5;241m+\u001b[39m \u001b[38;5;241m5\u001b[39m\u001b[38;5;241m*\u001b[39mx5 \u001b[38;5;241m+\u001b[39m \u001b[38;5;241m6\u001b[39m\u001b[38;5;241m*\u001b[39mx6 \u001b[38;5;241m+\u001b[39m \u001b[38;5;241m7\u001b[39m\u001b[38;5;241m*\u001b[39mx7 \u001b[38;5;241m+\u001b[39m \u001b[38;5;241m8\u001b[39m\u001b[38;5;241m*\u001b[39mx8 \u001b[38;5;241m+\u001b[39m \u001b[38;5;241m9\u001b[39m\u001b[38;5;241m*\u001b[39mx9) \u001b[38;5;66;03m# Objective\u001b[39;00m\n\u001b[0;32m---> 37\u001b[0m \u001b[43mm\u001b[49m\u001b[38;5;241;43m.\u001b[39;49m\u001b[43msolve\u001b[49m\u001b[43m(\u001b[49m\u001b[43mdisp\u001b[49m\u001b[38;5;241;43m=\u001b[39;49m\u001b[38;5;28;43;01mFalse\u001b[39;49;00m\u001b[43m)\u001b[49m \u001b[38;5;66;03m# Solve\u001b[39;00m\n\u001b[1;32m     38\u001b[0m \u001b[38;5;28mprint\u001b[39m(i, \u001b[38;5;124m\"\u001b[39m\u001b[38;5;124m--- \u001b[39m\u001b[38;5;132;01m%s\u001b[39;00m\u001b[38;5;124m seconds ---\u001b[39m\u001b[38;5;124m\"\u001b[39m \u001b[38;5;241m%\u001b[39m (time\u001b[38;5;241m.\u001b[39mtime() \u001b[38;5;241m-\u001b[39m start_time) )\n",
      "File \u001b[0;32m~/opt/miniconda3/lib/python3.8/site-packages/gekko/gekko.py:2185\u001b[0m, in \u001b[0;36mGEKKO.solve\u001b[0;34m(self, disp, debug, GUI, **kwargs)\u001b[0m\n\u001b[1;32m   2183\u001b[0m \u001b[38;5;66;03m#print APM error message and die\u001b[39;00m\n\u001b[1;32m   2184\u001b[0m \u001b[38;5;28;01mif\u001b[39;00m (debug \u001b[38;5;241m>\u001b[39m\u001b[38;5;241m=\u001b[39m \u001b[38;5;241m1\u001b[39m) \u001b[38;5;129;01mand\u001b[39;00m (\u001b[38;5;124m'\u001b[39m\u001b[38;5;124m@error\u001b[39m\u001b[38;5;124m'\u001b[39m \u001b[38;5;129;01min\u001b[39;00m response):\n\u001b[0;32m-> 2185\u001b[0m     \u001b[38;5;28;01mraise\u001b[39;00m \u001b[38;5;167;01mException\u001b[39;00m(response)\n\u001b[1;32m   2187\u001b[0m \u001b[38;5;66;03m#load results\u001b[39;00m\n\u001b[1;32m   2188\u001b[0m \u001b[38;5;28;01mdef\u001b[39;00m \u001b[38;5;21mbyte2str\u001b[39m(byte):\n",
      "\u001b[0;31mException\u001b[0m:  @error: Insufficient Model\n Model must contain at least 1 variable and 1 equation\n STOPPING...\n"
     ]
    }
   ],
   "source": [
    "start_time = time.time()\n",
    "for i in range(0,600,3):\n",
    "    m = GEKKO() # Initialize gekko\n",
    "    m.options.SOLVER=1  # APOPT is an MINLP solver\n",
    "\n",
    "    # optional solver settings with APOPT\n",
    "    m.solver_options = ['minlp_maximum_iterations 10000', \\\n",
    "                        # minlp iterations with integer solution\n",
    "                        'minlp_max_iter_with_int_sol 10', \\\n",
    "                        # nlp sub-problem max iterations\n",
    "                        'nlp_maximum_iterations 50', \\\n",
    "                        # maximum deviation from whole number\n",
    "                        'minlp_integer_tol 0.05', \\\n",
    "                        # covergence tolerance\n",
    "                        'minlp_gap_tol 0.01']\n",
    "\n",
    "    b = [300+i,300+i,300+i,300+i,300+i,300+i]\n",
    "\n",
    "    # Initialize variables\n",
    "    x1 = m.Var(value=0,lb=0,integer=True)\n",
    "    x2 = m.Var(value=0,lb=0,integer=True)\n",
    "    x3 = m.Var(value=0,lb=0,integer=True)\n",
    "    x4 = m.Var(value=0,lb=0,integer=True)\n",
    "    x5 = m.Var(value=0,lb=0,integer=True)\n",
    "    x6 = m.Var(value=0,lb=0,integer=True)\n",
    "    x7 = m.Var(value=0,lb=0,integer=True)\n",
    "    x8 = m.Var(value=0,lb=0,integer=True)\n",
    "    x9 = m.Var(value=0,lb=0,integer=True)\n",
    "    # Equations\n",
    "    m.Equation(1*x1 + 1*x3 == b[0])\n",
    "    m.Equation(1*x2 + 1*x4 == b[1])\n",
    "    m.Equation(1*x3 + 1*x6 == b[2])\n",
    "    m.Equation(1*x1 + 1*x2 - 1*x7== 0)\n",
    "    m.Equation(1*x3 + 1*x4 - 1*x8 == 0)\n",
    "    m.Equation(1*x5 + 1*x6 - 1*x9 == 0)\n",
    "    m.Obj(1*x1 + 2*x2 + 3*x3 + 4*x4 + 5*x5 + 6*x6 + 7*x7 + 8*x8 + 9*x9) # Objective\n",
    "    m.solve(disp=False) # Solve\n",
    "    print(i, \"--- %s seconds ---\" % (time.time() - start_time) )\n",
    "    #print('Results')\n",
    "    #print('x: ' + str(x1.value + x2.value + x3.value +\n",
    "    #                  x4.value + x5.value + x6.value))\n",
    "    #print('Objective: ' + str(m.options.objfcnval))"
   ]
  },
  {
   "cell_type": "code",
   "execution_count": null,
   "id": "001d0421",
   "metadata": {},
   "outputs": [],
   "source": []
  },
  {
   "cell_type": "code",
   "execution_count": null,
   "id": "8ea8ab71",
   "metadata": {},
   "outputs": [],
   "source": []
  },
  {
   "cell_type": "code",
   "execution_count": null,
   "id": "18b7d462",
   "metadata": {},
   "outputs": [],
   "source": []
  },
  {
   "cell_type": "code",
   "execution_count": null,
   "id": "7167c443",
   "metadata": {},
   "outputs": [],
   "source": []
  },
  {
   "cell_type": "code",
   "execution_count": null,
   "id": "af9616a1",
   "metadata": {},
   "outputs": [],
   "source": []
  }
 ],
 "metadata": {
  "kernelspec": {
   "display_name": "Python 3",
   "language": "python",
   "name": "python3"
  },
  "language_info": {
   "codemirror_mode": {
    "name": "ipython",
    "version": 3
   },
   "file_extension": ".py",
   "mimetype": "text/x-python",
   "name": "python",
   "nbconvert_exporter": "python",
   "pygments_lexer": "ipython3",
   "version": "3.8.13"
  }
 },
 "nbformat": 4,
 "nbformat_minor": 5
}
