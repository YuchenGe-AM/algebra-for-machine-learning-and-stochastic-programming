{
 "cells": [
  {
   "cell_type": "markdown",
   "id": "71f75ca8",
   "metadata": {},
   "source": [
    "# Main"
   ]
  },
  {
   "cell_type": "code",
   "execution_count": 2,
   "id": "38ef7010",
   "metadata": {},
   "outputs": [],
   "source": [
    "def SpecGr_Com(Gr_1,m,n):\n",
    "    A = [0]*m\n",
    "    SpecGr = []\n",
    "    for k in range(1,n+1):\n",
    "        for l in Gr_1:\n",
    "            temp = A+[0]*(k-1)+l+[0]*(n-k)\n",
    "            SpecGr.append(temp)\n",
    "    return SpecGr"
   ]
  },
  {
   "cell_type": "code",
   "execution_count": null,
   "id": "f19ec699",
   "metadata": {},
   "outputs": [],
   "source": []
  },
  {
   "cell_type": "markdown",
   "id": "3c6c7a55",
   "metadata": {},
   "source": [
    "# Experiment"
   ]
  },
  {
   "cell_type": "code",
   "execution_count": null,
   "id": "156ae90a",
   "metadata": {},
   "outputs": [],
   "source": [
    "def augmentation(z_feas,c,T):\n",
    "    # z_feaas: feasible point ; c: cost; T: universal test set\n",
    "    exist_aug = True\n",
    "    i = 0\n",
    "    while exist_aug:\n",
    "        exist_aug = False\n",
    "        for t in T:\n",
    "            if np.dot(c, t, out=None)>0 and np. all((z_feas-t>=0)):\n",
    "                z_feas = z_feas-t\n",
    "                i = 1+i\n",
    "                #print('Iteration step', i,': vector', z_feas)\n",
    "                exist_aug = True\n",
    "            if np.dot(c, t, out=None)<0 and np. all((z_feas+t>=0)):\n",
    "                z_feas = z_feas+t\n",
    "                i = i+1\n",
    "                #print('Iteration step', i,': vector', z_feas)\n",
    "                exist_aug = True\n",
    "    #print('Achieve an optimum!')\n",
    "    return z_feas"
   ]
  },
  {
   "cell_type": "code",
   "execution_count": null,
   "id": "24007486",
   "metadata": {},
   "outputs": [],
   "source": []
  },
  {
   "cell_type": "code",
   "execution_count": null,
   "id": "ab01b67b",
   "metadata": {},
   "outputs": [],
   "source": []
  }
 ],
 "metadata": {
  "kernelspec": {
   "display_name": "Python 3",
   "language": "python",
   "name": "python3"
  },
  "language_info": {
   "codemirror_mode": {
    "name": "ipython",
    "version": 3
   },
   "file_extension": ".py",
   "mimetype": "text/x-python",
   "name": "python",
   "nbconvert_exporter": "python",
   "pygments_lexer": "ipython3",
   "version": "3.8.13"
  }
 },
 "nbformat": 4,
 "nbformat_minor": 5
}
