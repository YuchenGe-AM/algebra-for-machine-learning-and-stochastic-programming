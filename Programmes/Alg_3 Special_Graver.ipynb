{
 "cells": [
  {
   "cell_type": "code",
   "execution_count": null,
   "id": "7ab98a99",
   "metadata": {},
   "outputs": [],
   "source": [
    "def SpecGr_Com(Gr_1,m,n):\n",
    "    A = [0]*m\n",
    "    SpecGr = []\n",
    "    for k in range(1,n+1):\n",
    "        fro l in Gr_1:\n",
    "            temp = A+[0]*(k-1)+l+[0]*(n-k)\n",
    "            SpecGr.append(temp)\n",
    "    return SpecGr"
   ]
  }
 ],
 "metadata": {
  "kernelspec": {
   "display_name": "Python 3",
   "language": "python",
   "name": "python3"
  },
  "language_info": {
   "codemirror_mode": {
    "name": "ipython",
    "version": 3
   },
   "file_extension": ".py",
   "mimetype": "text/x-python",
   "name": "python",
   "nbconvert_exporter": "python",
   "pygments_lexer": "ipython3",
   "version": "3.8.13"
  }
 },
 "nbformat": 4,
 "nbformat_minor": 5
}
