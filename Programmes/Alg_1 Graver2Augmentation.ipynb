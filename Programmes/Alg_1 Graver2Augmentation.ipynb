{
 "cells": [
  {
   "cell_type": "code",
   "execution_count": 14,
   "id": "0537d11a",
   "metadata": {},
   "outputs": [
    {
     "data": {
      "text/latex": [
       "$\\displaystyle \\left[\\begin{matrix}\\end{matrix}\\right]$"
      ],
      "text/plain": [
       "Matrix(0, 1, [])"
      ]
     },
     "execution_count": 14,
     "metadata": {},
     "output_type": "execute_result"
    }
   ],
   "source": [
    "from sympy import *\n",
    "import matplotlib.pyplot as plt\n",
    "import numpy as np\n",
    "from typing import Callable\n",
    "import itertools\n",
    "import random\n",
    "import pyomo\n",
    "import time\n",
    "# A, b, c\n",
    "A = np.array([[1,3,1,3,1,3,1,3,3,1,0,0,0,0,0]])\n",
    "c = np.array([-2,-3,-4,-5,-6,-7,-8,0,0,0,0,0,0,0,0])\n",
    "Matrix(A)"
   ]
  },
  {
   "cell_type": "code",
   "execution_count": null,
   "id": "2c0dd88f",
   "metadata": {},
   "outputs": [],
   "source": []
  },
  {
   "cell_type": "code",
   "execution_count": null,
   "id": "ec033f1a",
   "metadata": {},
   "outputs": [],
   "source": []
  },
  {
   "cell_type": "code",
   "execution_count": 15,
   "id": "ad3cbd2a",
   "metadata": {},
   "outputs": [],
   "source": [
    "# Computation of Graver Basis"
   ]
  },
  {
   "cell_type": "code",
   "execution_count": 16,
   "id": "95986c56",
   "metadata": {},
   "outputs": [],
   "source": [
    "# toric ideal of A"
   ]
  },
  {
   "cell_type": "code",
   "execution_count": 17,
   "id": "2dbae70f",
   "metadata": {},
   "outputs": [],
   "source": [
    "def toric_ideal(A):\n",
    "    # Define symbolic variables ys for each row (index 0 in Python)\n",
    "    sym_str_y = 'y:' + str(A.shape[0])\n",
    "    ys = symbols(sym_str_y)\n",
    "    \n",
    "    # Define symbolic variables xs for each column (index 0 in Python)\n",
    "    sym_str_x = 'x:' + str(A.shape[1])\n",
    "    xs = symbols(sym_str_x)\n",
    "\n",
    "    def to_polynomial(coef,vars):\n",
    "        '''\n",
    "        Function to define a single column of the coefficient as a polynomial\n",
    "        '''\n",
    "        res1 = 1\n",
    "        res2 = 1\n",
    "        for i in range(len(coef)):\n",
    "            if coef[i] >= 0:\n",
    "                res1 = res1*vars[i]**coef[i]\n",
    "            else:\n",
    "                res2 = res2*vars[i]**(-coef[i])\n",
    "        res = res1 - res2\n",
    "        return res\n",
    "\n",
    "    def polynomial_ideal(A):\n",
    "        '''\n",
    "        Function to define a the polynomial ideal of a matrix A according to Conti and Traverso\n",
    "        '''\n",
    "        IA = A.col_insert(0, eye(A.shape[0]))\n",
    "        # Find nullspace (kernel) of A\n",
    "        ker = IA.nullspace()\n",
    "\n",
    "        # Normalize elements of kernel to be integers\n",
    "        ker_len = len(ker)\n",
    "        for i in range(ker_len):\n",
    "            rationalvector = True\n",
    "            while rationalvector:\n",
    "                factor = 1\n",
    "                for j in ker[i]:\n",
    "                    if j%1 != 0:\n",
    "                        factor = min(factor,j%1)\n",
    "                if factor == 1:\n",
    "                    rationalvector = False\n",
    "                else:\n",
    "                    ker[i]=ker[i] / factor\n",
    "\n",
    "        vars = ys + xs\n",
    "\n",
    "        gen = []\n",
    "        for k in ker:\n",
    "            gen.append(to_polynomial(k,vars))\n",
    "\n",
    "\n",
    "        return(gen, vars)\n",
    "    \n",
    "    IA, vars = polynomial_ideal(A)\n",
    "    tor = groebner(IA, vars, order='lex')\n",
    "\n",
    "    toric = []\n",
    "\n",
    "    for i in tor:\n",
    "        i = Poly(i)\n",
    "        i_str = str(i.gens)\n",
    "        #print(i_str)\n",
    "        if not 'y' in i_str:\n",
    "            toric.append(i)\n",
    "\n",
    "    return toric, xs, ys"
   ]
  },
  {
   "cell_type": "code",
   "execution_count": 18,
   "id": "8d1225ab",
   "metadata": {},
   "outputs": [],
   "source": [
    "# Graver Basis of A"
   ]
  },
  {
   "cell_type": "markdown",
   "id": "d4a424c5",
   "metadata": {},
   "source": [
    "# Main"
   ]
  },
  {
   "cell_type": "code",
   "execution_count": 19,
   "id": "aff3e450",
   "metadata": {},
   "outputs": [],
   "source": [
    "def GraverBasis(A):\n",
    "\n",
    "    def Alaw(A):\n",
    "        # n : column dimension r : row dimension\n",
    "        A = Matrix(A)\n",
    "        r = A.shape[0]\n",
    "        n = A.shape[1]\n",
    "        Id = np.concatenate((np.identity(n),np.identity(n)),axis = 1)\n",
    "        Alaw = np.concatenate((A, np.zeros((r, n))),axis = 1)\n",
    "        Alaw = np.concatenate((Alaw, Id),axis = 0)\n",
    "\n",
    "        Afin = Alaw.astype(int)\n",
    "        Afin = Matrix(Afin)\n",
    "        return Afin, n\n",
    "\n",
    "    def monomial(p):\n",
    "        return [prod(x**k for x, k in zip(p.gens, mon)) for mon in p.monoms()]\n",
    "\n",
    "    def to_T(toric):\n",
    "        toric_fin=[]\n",
    "        for g in toric:\n",
    "            for k in range(n,2*n):\n",
    "                g = g.subs({(xs[k],1)})\n",
    "            toric_fin.append(g)\n",
    "\n",
    "        toric_len = len(toric)\n",
    "\n",
    "        vp = [0]*n\n",
    "        vm = [0]*n\n",
    "        T = []\n",
    "        for k in range(0,toric_len):\n",
    "            for i in range(0,n):\n",
    "                p = monomial(Poly(toric_fin[k]))[0]\n",
    "                m = monomial(Poly(toric_fin[k]))[1]\n",
    "                vp[i] = degree(p,xs[i])\n",
    "                vm[i] = degree(m,xs[i])\n",
    "            v = np.array(vp) - np.array(vm)\n",
    "            v = v.astype(int)\n",
    "            T.append(v)\n",
    "        return T\n",
    "\n",
    "    Afin, n = Alaw(A)\n",
    "    toric, xs, ys= toric_ideal(Afin)\n",
    "\n",
    "    T = to_T(toric)\n",
    "    return T\n"
   ]
  },
  {
   "cell_type": "code",
   "execution_count": null,
   "id": "d15683a0",
   "metadata": {},
   "outputs": [],
   "source": []
  },
  {
   "cell_type": "markdown",
   "id": "618faf7f",
   "metadata": {},
   "source": [
    "# Aungmentation Algrithm"
   ]
  },
  {
   "cell_type": "code",
   "execution_count": 20,
   "id": "e2f3317f",
   "metadata": {},
   "outputs": [],
   "source": [
    "# augmentation algorithm"
   ]
  },
  {
   "cell_type": "code",
   "execution_count": 21,
   "id": "44840c31",
   "metadata": {},
   "outputs": [],
   "source": [
    "def augmentation(z_feas,c,T):\n",
    "    # z_feaas: feasible point ; c: cost; T: universal test set\n",
    "    exist_aug = True\n",
    "    #i = 0\n",
    "    while exist_aug:\n",
    "        exist_aug = False\n",
    "        for t in T:\n",
    "            if np.dot(c, t, out=None)>0 and np. all((z_feas-t>=0)):\n",
    "                z_feas = z_feas-t\n",
    "                #i = 1+i\n",
    "                #print('Iteration step', i,': vector', z_feas)\n",
    "                exist_aug = True\n",
    "            if np.dot(c, t, out=None)<0 and np. all((z_feas+t>=0)):\n",
    "                z_feas = z_feas+t\n",
    "                #i = i+1\n",
    "                #print('Iteration step', i,': vector', z_feas)\n",
    "                exist_aug = True\n",
    "    #print('Achieve an optimum!')\n",
    "    return z_feas"
   ]
  },
  {
   "cell_type": "code",
   "execution_count": null,
   "id": "08d2a4a0",
   "metadata": {},
   "outputs": [],
   "source": []
  },
  {
   "cell_type": "code",
   "execution_count": null,
   "id": "11f2b71e",
   "metadata": {},
   "outputs": [],
   "source": []
  },
  {
   "cell_type": "markdown",
   "id": "cba1e5c4",
   "metadata": {},
   "source": [
    "# Experiment"
   ]
  },
  {
   "cell_type": "code",
   "execution_count": 22,
   "id": "fe601549",
   "metadata": {},
   "outputs": [],
   "source": [
    "def feasible_solu(b):\n",
    "    return [0,0,0,0,0,0,0,0,0,0,0,0,0,0,0]"
   ]
  },
  {
   "cell_type": "code",
   "execution_count": null,
   "id": "a0312985",
   "metadata": {},
   "outputs": [],
   "source": []
  },
  {
   "cell_type": "code",
   "execution_count": 23,
   "id": "4285ed51",
   "metadata": {},
   "outputs": [
    {
     "name": "stdout",
     "output_type": "stream",
     "text": [
      "--- 0.010648965835571289 seconds ---\n"
     ]
    }
   ],
   "source": [
    "start_time = time.time()\n",
    "\n",
    "T = GraverBasis(A)\n",
    "\n",
    "print(\"--- %s seconds ---\" % (time.time() - start_time))"
   ]
  },
  {
   "cell_type": "code",
   "execution_count": 24,
   "id": "cf21b40a",
   "metadata": {},
   "outputs": [
    {
     "ename": "ValueError",
     "evalue": "shapes (0,) and (1,) not aligned: 0 (dim 0) != 1 (dim 0)",
     "output_type": "error",
     "traceback": [
      "\u001b[0;31m---------------------------------------------------------------------------\u001b[0m",
      "\u001b[0;31mValueError\u001b[0m                                Traceback (most recent call last)",
      "Input \u001b[0;32mIn [24]\u001b[0m, in \u001b[0;36m<cell line: 6>\u001b[0;34m()\u001b[0m\n\u001b[1;32m      6\u001b[0m \u001b[38;5;28;01mfor\u001b[39;00m i \u001b[38;5;129;01min\u001b[39;00m \u001b[38;5;28mrange\u001b[39m(\u001b[38;5;241m0\u001b[39m,\u001b[38;5;241m600\u001b[39m,\u001b[38;5;241m3\u001b[39m):\n\u001b[1;32m      7\u001b[0m     b \u001b[38;5;241m=\u001b[39m []\n\u001b[0;32m----> 8\u001b[0m     temp \u001b[38;5;241m=\u001b[39m \u001b[43maugmentation\u001b[49m\u001b[43m(\u001b[49m\u001b[43mfeasible_solu\u001b[49m\u001b[43m(\u001b[49m\u001b[43mb\u001b[49m\u001b[43m)\u001b[49m\u001b[43m,\u001b[49m\u001b[43mc\u001b[49m\u001b[43m,\u001b[49m\u001b[43mT\u001b[49m\u001b[43m)\u001b[49m\n\u001b[1;32m      9\u001b[0m     opt\u001b[38;5;241m.\u001b[39mappend(temp)\n\u001b[1;32m     10\u001b[0m     \u001b[38;5;28mprint\u001b[39m(i)\n",
      "Input \u001b[0;32mIn [21]\u001b[0m, in \u001b[0;36maugmentation\u001b[0;34m(z_feas, c, T)\u001b[0m\n\u001b[1;32m      6\u001b[0m exist_aug \u001b[38;5;241m=\u001b[39m \u001b[38;5;28;01mFalse\u001b[39;00m\n\u001b[1;32m      7\u001b[0m \u001b[38;5;28;01mfor\u001b[39;00m t \u001b[38;5;129;01min\u001b[39;00m T:\n\u001b[0;32m----> 8\u001b[0m     \u001b[38;5;28;01mif\u001b[39;00m \u001b[43mnp\u001b[49m\u001b[38;5;241;43m.\u001b[39;49m\u001b[43mdot\u001b[49m\u001b[43m(\u001b[49m\u001b[43mc\u001b[49m\u001b[43m,\u001b[49m\u001b[43m \u001b[49m\u001b[43mt\u001b[49m\u001b[43m,\u001b[49m\u001b[43m \u001b[49m\u001b[43mout\u001b[49m\u001b[38;5;241;43m=\u001b[39;49m\u001b[38;5;28;43;01mNone\u001b[39;49;00m\u001b[43m)\u001b[49m\u001b[38;5;241m>\u001b[39m\u001b[38;5;241m0\u001b[39m \u001b[38;5;129;01mand\u001b[39;00m np\u001b[38;5;241m.\u001b[39m \u001b[38;5;28mall\u001b[39m((z_feas\u001b[38;5;241m-\u001b[39mt\u001b[38;5;241m>\u001b[39m\u001b[38;5;241m=\u001b[39m\u001b[38;5;241m0\u001b[39m)):\n\u001b[1;32m      9\u001b[0m         z_feas \u001b[38;5;241m=\u001b[39m z_feas\u001b[38;5;241m-\u001b[39mt\n\u001b[1;32m     10\u001b[0m         \u001b[38;5;66;03m#i = 1+i\u001b[39;00m\n\u001b[1;32m     11\u001b[0m         \u001b[38;5;66;03m#print('Iteration step', i,': vector', z_feas)\u001b[39;00m\n",
      "File \u001b[0;32m<__array_function__ internals>:180\u001b[0m, in \u001b[0;36mdot\u001b[0;34m(*args, **kwargs)\u001b[0m\n",
      "\u001b[0;31mValueError\u001b[0m: shapes (0,) and (1,) not aligned: 0 (dim 0) != 1 (dim 0)"
     ]
    }
   ],
   "source": [
    "#T\n",
    "\n",
    "start_time = time.time()\n",
    "\n",
    "opt = []\n",
    "for i in range(0,600,3):\n",
    "    b = []\n",
    "    temp = augmentation(feasible_solu(b),c,T)\n",
    "    opt.append(temp)\n",
    "    print(i)\n",
    "\n",
    "#opt\n",
    "print(\"--- %s seconds ---\" % (time.time() - start_time))"
   ]
  },
  {
   "cell_type": "code",
   "execution_count": null,
   "id": "5224b79b",
   "metadata": {},
   "outputs": [],
   "source": []
  },
  {
   "cell_type": "code",
   "execution_count": null,
   "id": "c5980733",
   "metadata": {},
   "outputs": [],
   "source": []
  },
  {
   "cell_type": "code",
   "execution_count": null,
   "id": "0c012f72",
   "metadata": {},
   "outputs": [],
   "source": []
  },
  {
   "cell_type": "code",
   "execution_count": null,
   "id": "55ab6b30",
   "metadata": {},
   "outputs": [],
   "source": []
  }
 ],
 "metadata": {
  "kernelspec": {
   "display_name": "Python 3",
   "language": "python",
   "name": "python3"
  },
  "language_info": {
   "codemirror_mode": {
    "name": "ipython",
    "version": 3
   },
   "file_extension": ".py",
   "mimetype": "text/x-python",
   "name": "python",
   "nbconvert_exporter": "python",
   "pygments_lexer": "ipython3",
   "version": "3.8.13"
  }
 },
 "nbformat": 4,
 "nbformat_minor": 5
}
