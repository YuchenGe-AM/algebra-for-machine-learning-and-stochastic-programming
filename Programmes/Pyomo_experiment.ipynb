{
 "cells": [
  {
   "cell_type": "code",
   "execution_count": 37,
   "id": "4ce8e51f",
   "metadata": {},
   "outputs": [
    {
     "name": "stdout",
     "output_type": "stream",
     "text": [
      "Results\n",
      "x1: [234.0]\n",
      "x2: [233.0]\n",
      "x3: [66.0]\n",
      "x4: [67.0]\n",
      "x5: [0.0]\n",
      "x6: [0.0]\n",
      "x7: [0.0]\n",
      "x8: [0.0]\n",
      "x9: [1.0]\n",
      "x10: [0.0]\n",
      "Objective: 19839.0\n"
     ]
    }
   ],
   "source": [
    "# GEKKO is a Python package for machine learning and \n",
    "# optimization of mixed-integer and differential algebraic equations. \n",
    "from gekko import GEKKO\n",
    "\n",
    "i = 0\n",
    "\n",
    "m = GEKKO() # Initialize gekko\n",
    "m.options.SOLVER=1  # APOPT is an MINLP solver\n",
    "\n",
    "# optional solver settings with APOPT\n",
    "m.solver_options = ['minlp_maximum_iterations 10000', \\\n",
    "                    # minlp iterations with integer solution\n",
    "                    'minlp_max_iter_with_int_sol 10', \\\n",
    "                    # nlp sub-problem max iterations\n",
    "                    'nlp_maximum_iterations 50', \\\n",
    "                    # maximum deviation from whole number\n",
    "                    'minlp_integer_tol 0.05', \\\n",
    "                    # covergence tolerance\n",
    "                    'minlp_gap_tol 0.01']\n",
    "\n",
    "b = [300+i,300+i,200+10*i,200+10*i]\n",
    "\n",
    "# Initialize variables\n",
    "x1 = m.Var(value=0,lb=0,integer=True)\n",
    "x2 = m.Var(value=0,lb=0,integer=True)\n",
    "x3 = m.Var(value=0,lb=0,integer=True)\n",
    "x4 = m.Var(value=0,lb=0,integer=True)\n",
    "x5 = m.Var(value=b[0],lb=0,integer=True)\n",
    "x6 = m.Var(value=b[1],lb=0,integer=True)\n",
    "x7 = m.Var(value=0,lb=0,integer=True)\n",
    "x8 = m.Var(value=0,lb=0,integer=True)\n",
    "x9 = m.Var(value=0,lb=0,integer=True)\n",
    "x10 = m.Var(value=0,lb=0,integer=True)\n",
    "# Equations\n",
    "m.Equation(1*x1 + 0*x2 + 1*x3 + 0*x4 + 1*x5 + 0*x6 - 1*x7 == b[0])\n",
    "m.Equation(0*x1 + 1*x2 + 0*x3 + 1*x4 + 0*x5 + 1*x6 - 1*x8 == b[1])\n",
    "m.Equation(0*x1 + 0*x2 + 2*x3 + 1*x4 + 0*x5 + 0*x6 + 1*x9 == b[2])\n",
    "m.Equation(0*x1 + 0*x2 + 1*x3 + 2*x4 + 0*x5 + 0*x6 + 1*x10 == b[3])\n",
    "m.Obj(35*x1 + 40*x2 + 16*x3+ 19*x4 + 47*x5 + 54*x6) # Objective\n",
    "m.solve(disp=False) # Solve\n",
    "print('Results')\n",
    "print('x1: ' + str(x1.value))\n",
    "print('x2: ' + str(x2.value))\n",
    "print('x3: ' + str(x3.value))\n",
    "print('x4: ' + str(x4.value))\n",
    "print('x5: ' + str(x5.value))\n",
    "print('x6: ' + str(x6.value))\n",
    "print('x7: ' + str(x7.value))\n",
    "print('x8: ' + str(x8.value))\n",
    "print('x9: ' + str(x9.value))\n",
    "print('x10: ' + str(x10.value))\n",
    "print('Objective: ' + str(m.options.objfcnval))"
   ]
  },
  {
   "cell_type": "code",
   "execution_count": null,
   "id": "76ad5285",
   "metadata": {},
   "outputs": [],
   "source": []
  },
  {
   "cell_type": "markdown",
   "id": "7555c0b0",
   "metadata": {},
   "source": [
    "# Numerical Experiment"
   ]
  },
  {
   "cell_type": "code",
   "execution_count": null,
   "id": "c0de97ec",
   "metadata": {},
   "outputs": [],
   "source": []
  },
  {
   "cell_type": "code",
   "execution_count": null,
   "id": "13be436c",
   "metadata": {},
   "outputs": [],
   "source": [
    "# GEKKO is a Python package for machine learning and \n",
    "# optimization of mixed-integer and differential algebraic equations. \n",
    "from gekko import GEKKO\n",
    "\n",
    "i = 0\n",
    "\n",
    "m = GEKKO() # Initialize gekko\n",
    "m.options.SOLVER=1  # APOPT is an MINLP solver\n",
    "\n",
    "# optional solver settings with APOPT\n",
    "m.solver_options = ['minlp_maximum_iterations 10000', \\\n",
    "                    # minlp iterations with integer solution\n",
    "                    'minlp_max_iter_with_int_sol 10', \\\n",
    "                    # nlp sub-problem max iterations\n",
    "                    'nlp_maximum_iterations 50', \\\n",
    "                    # maximum deviation from whole number\n",
    "                    'minlp_integer_tol 0.05', \\\n",
    "                    # covergence tolerance\n",
    "                    'minlp_gap_tol 0.01']\n",
    "\n",
    "b = [300+i,300+i,200+10*i,200+10*i]\n",
    "\n",
    "# Initialize variables\n",
    "x1 = m.Var(value=0,lb=0,integer=True)\n",
    "x2 = m.Var(value=0,lb=0,integer=True)\n",
    "x3 = m.Var(value=0,lb=0,integer=True)\n",
    "x4 = m.Var(value=0,lb=0,integer=True)\n",
    "x5 = m.Var(value=b[0],lb=0,integer=True)\n",
    "x6 = m.Var(value=b[1],lb=0,integer=True)\n",
    "x7 = m.Var(value=0,lb=0,integer=True)\n",
    "x8 = m.Var(value=0,lb=0,integer=True)\n",
    "x9 = m.Var(value=0,lb=0,integer=True)\n",
    "x10 = m.Var(value=0,lb=0,integer=True)\n",
    "# Equations\n",
    "m.Equation(1*x1 + 0*x2 + 1*x3 + 0*x4 + 1*x5 + 0*x6 - 1*x7 == b[0])\n",
    "m.Equation(0*x1 + 1*x2 + 0*x3 + 1*x4 + 0*x5 + 1*x6 - 1*x8 == b[1])\n",
    "m.Equation(0*x1 + 0*x2 + 2*x3 + 1*x4 + 0*x5 + 0*x6 + 1*x9 == b[2])\n",
    "m.Equation(0*x1 + 0*x2 + 1*x3 + 2*x4 + 0*x5 + 0*x6 + 1*x10 == b[3])\n",
    "m.Obj(35*x1 + 40*x2 + 16*x3+ 19*x4 + 47*x5 + 54*x6) # Objective\n",
    "m.solve(disp=False) # Solve\n",
    "print('Results')\n",
    "print('x1: ' + str(x1.value))\n",
    "print('x2: ' + str(x2.value))\n",
    "print('x3: ' + str(x3.value))\n",
    "print('x4: ' + str(x4.value))\n",
    "print('x5: ' + str(x5.value))\n",
    "print('x6: ' + str(x6.value))\n",
    "print('x7: ' + str(x7.value))\n",
    "print('x8: ' + str(x8.value))\n",
    "print('x9: ' + str(x9.value))\n",
    "print('x10: ' + str(x10.value))\n",
    "print('Objective: ' + str(m.options.objfcnval))"
   ]
  },
  {
   "cell_type": "code",
   "execution_count": null,
   "id": "d7d27978",
   "metadata": {},
   "outputs": [],
   "source": []
  },
  {
   "cell_type": "code",
   "execution_count": 5,
   "id": "3f1d1233",
   "metadata": {},
   "outputs": [],
   "source": [
    "def Ker(A):\n",
    "        A = Matrix(A)\n",
    "        B = np.array(Matrix(A).nullspace()).transpose()\n",
    "        C = Matrix(B[0]).transpose()\n",
    "        return C\n",
    "    \n",
    "def same_orthant(A):    \n",
    "        # compute the highest value in abstract value in a numpy natrix\n",
    "        def abs_max(A):\n",
    "            A = np.array(A)\n",
    "            return abs(max(A.min(), A.max(), key=abs))\n",
    "\n",
    "        for i in range(1,A.shape[0]):\n",
    "            A[i,:] = A[i,:]+A[i-1,:]*(1+abs_max(A[i,:]))\n",
    "        A_fin = np.array(A)\n",
    "        A_fin = A_fin.astype(int)\n",
    "        A_fin = Matrix(A_fin)\n",
    "        return A_fin"
   ]
  },
  {
   "cell_type": "code",
   "execution_count": 23,
   "id": "2180c6c7",
   "metadata": {},
   "outputs": [],
   "source": [
    "from sympy import *\n",
    "import matplotlib.pyplot as plt\n",
    "import numpy as np\n",
    "from typing import Callable\n",
    "import itertools\n",
    "import random\n",
    "import time\n",
    "\n",
    "A = np.array([[2,5,4,1,1,0],[3,2,4,0,0,2],[5,3,2,2,5,0],[0,1,1,4,3,2]])\n",
    "B = Ker(A)\n",
    "C = same_orthant(B)"
   ]
  },
  {
   "cell_type": "code",
   "execution_count": 21,
   "id": "c2ca86c3",
   "metadata": {},
   "outputs": [
    {
     "data": {
      "text/latex": [
       "$\\displaystyle \\left[\\begin{matrix}0 & 0 & 0 & 0 & 1 & 0\\\\-1 & 0 & 0 & -2 & 2 & 1\\end{matrix}\\right]$"
      ],
      "text/plain": [
       "Matrix([\n",
       "[ 0, 0, 0,  0, 1, 0],\n",
       "[-1, 0, 0, -2, 2, 1]])"
      ]
     },
     "execution_count": 21,
     "metadata": {},
     "output_type": "execute_result"
    }
   ],
   "source": [
    "C"
   ]
  },
  {
   "cell_type": "code",
   "execution_count": 24,
   "id": "4bbe1529",
   "metadata": {},
   "outputs": [
    {
     "data": {
      "text/latex": [
       "$\\displaystyle \\left[\\begin{matrix}-154 & -61 & 146 & -172 & 201 & 0\\\\-31094 & -12152 & 29296 & -34838 & 40602 & 201\\end{matrix}\\right]$"
      ],
      "text/plain": [
       "Matrix([\n",
       "[  -154,    -61,   146,   -172,   201,   0],\n",
       "[-31094, -12152, 29296, -34838, 40602, 201]])"
      ]
     },
     "execution_count": 24,
     "metadata": {},
     "output_type": "execute_result"
    }
   ],
   "source": [
    "C"
   ]
  },
  {
   "cell_type": "code",
   "execution_count": 25,
   "id": "2e47919d",
   "metadata": {},
   "outputs": [],
   "source": [
    "import numpy as np\n",
    "from sympy import Matrix,lcm\n",
    "from fractions import Fraction\n",
    "\n",
    "def ker_int_basis(B):\n",
    "    BKer = 1.0*np.array(Matrix(B).nullspace())\n",
    "    Bk =[]\n",
    "    for basis in BKer:\n",
    "        l = lcm(map(lambda x: Fraction(x).limit_denominator().denominator,map(str,basis)))\n",
    "        basis = map(int,l*basis)\n",
    "        Bk.append(basis)    \n",
    "    Bk = np.array(Bk)\n",
    "    return Bk"
   ]
  },
  {
   "cell_type": "code",
   "execution_count": 26,
   "id": "cc871ccf",
   "metadata": {},
   "outputs": [
    {
     "ename": "ValueError",
     "evalue": "Invalid literal for Fraction: '[-0.766169154228856]'",
     "output_type": "error",
     "traceback": [
      "\u001b[0;31m---------------------------------------------------------------------------\u001b[0m",
      "\u001b[0;31mValueError\u001b[0m                                Traceback (most recent call last)",
      "Input \u001b[0;32mIn [26]\u001b[0m, in \u001b[0;36m<cell line: 1>\u001b[0;34m()\u001b[0m\n\u001b[0;32m----> 1\u001b[0m \u001b[43mker_int_basis\u001b[49m\u001b[43m(\u001b[49m\u001b[43mA\u001b[49m\u001b[43m)\u001b[49m\n",
      "Input \u001b[0;32mIn [25]\u001b[0m, in \u001b[0;36mker_int_basis\u001b[0;34m(B)\u001b[0m\n\u001b[1;32m      7\u001b[0m Bk \u001b[38;5;241m=\u001b[39m[]\n\u001b[1;32m      8\u001b[0m \u001b[38;5;28;01mfor\u001b[39;00m basis \u001b[38;5;129;01min\u001b[39;00m BKer:\n\u001b[0;32m----> 9\u001b[0m     l \u001b[38;5;241m=\u001b[39m \u001b[43mlcm\u001b[49m\u001b[43m(\u001b[49m\u001b[38;5;28;43mmap\u001b[39;49m\u001b[43m(\u001b[49m\u001b[38;5;28;43;01mlambda\u001b[39;49;00m\u001b[43m \u001b[49m\u001b[43mx\u001b[49m\u001b[43m:\u001b[49m\u001b[43m \u001b[49m\u001b[43mFraction\u001b[49m\u001b[43m(\u001b[49m\u001b[43mx\u001b[49m\u001b[43m)\u001b[49m\u001b[38;5;241;43m.\u001b[39;49m\u001b[43mlimit_denominator\u001b[49m\u001b[43m(\u001b[49m\u001b[43m)\u001b[49m\u001b[38;5;241;43m.\u001b[39;49m\u001b[43mdenominator\u001b[49m\u001b[43m,\u001b[49m\u001b[38;5;28;43mmap\u001b[39;49m\u001b[43m(\u001b[49m\u001b[38;5;28;43mstr\u001b[39;49m\u001b[43m,\u001b[49m\u001b[43mbasis\u001b[49m\u001b[43m)\u001b[49m\u001b[43m)\u001b[49m\u001b[43m)\u001b[49m\n\u001b[1;32m     10\u001b[0m     basis \u001b[38;5;241m=\u001b[39m \u001b[38;5;28mmap\u001b[39m(\u001b[38;5;28mint\u001b[39m,l\u001b[38;5;241m*\u001b[39mbasis)\n\u001b[1;32m     11\u001b[0m     Bk\u001b[38;5;241m.\u001b[39mappend(basis)    \n",
      "File \u001b[0;32m~/opt/miniconda3/lib/python3.8/site-packages/sympy/polys/polytools.py:5502\u001b[0m, in \u001b[0;36mlcm\u001b[0;34m(f, g, *gens, **args)\u001b[0m\n\u001b[1;32m   5499\u001b[0m     \u001b[38;5;28;01mif\u001b[39;00m g \u001b[38;5;129;01mis\u001b[39;00m \u001b[38;5;129;01mnot\u001b[39;00m \u001b[38;5;28;01mNone\u001b[39;00m:\n\u001b[1;32m   5500\u001b[0m         gens \u001b[38;5;241m=\u001b[39m (g,) \u001b[38;5;241m+\u001b[39m gens\n\u001b[0;32m-> 5502\u001b[0m     \u001b[38;5;28;01mreturn\u001b[39;00m \u001b[43mlcm_list\u001b[49m\u001b[43m(\u001b[49m\u001b[43mf\u001b[49m\u001b[43m,\u001b[49m\u001b[43m \u001b[49m\u001b[38;5;241;43m*\u001b[39;49m\u001b[43mgens\u001b[49m\u001b[43m,\u001b[49m\u001b[43m \u001b[49m\u001b[38;5;241;43m*\u001b[39;49m\u001b[38;5;241;43m*\u001b[39;49m\u001b[43margs\u001b[49m\u001b[43m)\u001b[49m\n\u001b[1;32m   5503\u001b[0m \u001b[38;5;28;01melif\u001b[39;00m g \u001b[38;5;129;01mis\u001b[39;00m \u001b[38;5;28;01mNone\u001b[39;00m:\n\u001b[1;32m   5504\u001b[0m     \u001b[38;5;28;01mraise\u001b[39;00m \u001b[38;5;167;01mTypeError\u001b[39;00m(\u001b[38;5;124m\"\u001b[39m\u001b[38;5;124mlcm() takes 2 arguments or a sequence of arguments\u001b[39m\u001b[38;5;124m\"\u001b[39m)\n",
      "File \u001b[0;32m~/opt/miniconda3/lib/python3.8/site-packages/sympy/polys/polytools.py:5420\u001b[0m, in \u001b[0;36mlcm_list\u001b[0;34m(seq, *gens, **args)\u001b[0m\n\u001b[1;32m   5405\u001b[0m \u001b[38;5;129m@public\u001b[39m\n\u001b[1;32m   5406\u001b[0m \u001b[38;5;28;01mdef\u001b[39;00m \u001b[38;5;21mlcm_list\u001b[39m(seq, \u001b[38;5;241m*\u001b[39mgens, \u001b[38;5;241m*\u001b[39m\u001b[38;5;241m*\u001b[39margs):\n\u001b[1;32m   5407\u001b[0m     \u001b[38;5;124;03m\"\"\"\u001b[39;00m\n\u001b[1;32m   5408\u001b[0m \u001b[38;5;124;03m    Compute LCM of a list of polynomials.\u001b[39;00m\n\u001b[1;32m   5409\u001b[0m \n\u001b[0;32m   (...)\u001b[0m\n\u001b[1;32m   5418\u001b[0m \n\u001b[1;32m   5419\u001b[0m \u001b[38;5;124;03m    \"\"\"\u001b[39;00m\n\u001b[0;32m-> 5420\u001b[0m     seq \u001b[38;5;241m=\u001b[39m \u001b[43msympify\u001b[49m\u001b[43m(\u001b[49m\u001b[43mseq\u001b[49m\u001b[43m)\u001b[49m\n\u001b[1;32m   5422\u001b[0m     \u001b[38;5;28;01mdef\u001b[39;00m \u001b[38;5;21mtry_non_polynomial_lcm\u001b[39m(seq):\n\u001b[1;32m   5423\u001b[0m         \u001b[38;5;28;01mif\u001b[39;00m \u001b[38;5;129;01mnot\u001b[39;00m gens \u001b[38;5;129;01mand\u001b[39;00m \u001b[38;5;129;01mnot\u001b[39;00m args:\n",
      "File \u001b[0;32m~/opt/miniconda3/lib/python3.8/site-packages/sympy/core/sympify.py:453\u001b[0m, in \u001b[0;36msympify\u001b[0;34m(a, locals, convert_xor, strict, rational, evaluate)\u001b[0m\n\u001b[1;32m    451\u001b[0m \u001b[38;5;28;01mif\u001b[39;00m iterable(a):\n\u001b[1;32m    452\u001b[0m     \u001b[38;5;28;01mtry\u001b[39;00m:\n\u001b[0;32m--> 453\u001b[0m         \u001b[38;5;28;01mreturn\u001b[39;00m \u001b[38;5;28mtype\u001b[39m(a)([sympify(x, \u001b[38;5;28mlocals\u001b[39m\u001b[38;5;241m=\u001b[39m\u001b[38;5;28mlocals\u001b[39m, convert_xor\u001b[38;5;241m=\u001b[39mconvert_xor,\n\u001b[1;32m    454\u001b[0m             rational\u001b[38;5;241m=\u001b[39mrational, evaluate\u001b[38;5;241m=\u001b[39mevaluate) \u001b[38;5;28;01mfor\u001b[39;00m x \u001b[38;5;129;01min\u001b[39;00m a])\n\u001b[1;32m    455\u001b[0m     \u001b[38;5;28;01mexcept\u001b[39;00m \u001b[38;5;167;01mTypeError\u001b[39;00m:\n\u001b[1;32m    456\u001b[0m         \u001b[38;5;66;03m# Not all iterables are rebuildable with their type.\u001b[39;00m\n\u001b[1;32m    457\u001b[0m         \u001b[38;5;28;01mpass\u001b[39;00m\n",
      "File \u001b[0;32m~/opt/miniconda3/lib/python3.8/site-packages/sympy/core/sympify.py:453\u001b[0m, in \u001b[0;36m<listcomp>\u001b[0;34m(.0)\u001b[0m\n\u001b[1;32m    451\u001b[0m \u001b[38;5;28;01mif\u001b[39;00m iterable(a):\n\u001b[1;32m    452\u001b[0m     \u001b[38;5;28;01mtry\u001b[39;00m:\n\u001b[0;32m--> 453\u001b[0m         \u001b[38;5;28;01mreturn\u001b[39;00m \u001b[38;5;28mtype\u001b[39m(a)([sympify(x, \u001b[38;5;28mlocals\u001b[39m\u001b[38;5;241m=\u001b[39m\u001b[38;5;28mlocals\u001b[39m, convert_xor\u001b[38;5;241m=\u001b[39mconvert_xor,\n\u001b[1;32m    454\u001b[0m             rational\u001b[38;5;241m=\u001b[39mrational, evaluate\u001b[38;5;241m=\u001b[39mevaluate) \u001b[38;5;28;01mfor\u001b[39;00m x \u001b[38;5;129;01min\u001b[39;00m a])\n\u001b[1;32m    455\u001b[0m     \u001b[38;5;28;01mexcept\u001b[39;00m \u001b[38;5;167;01mTypeError\u001b[39;00m:\n\u001b[1;32m    456\u001b[0m         \u001b[38;5;66;03m# Not all iterables are rebuildable with their type.\u001b[39;00m\n\u001b[1;32m    457\u001b[0m         \u001b[38;5;28;01mpass\u001b[39;00m\n",
      "Input \u001b[0;32mIn [25]\u001b[0m, in \u001b[0;36mker_int_basis.<locals>.<lambda>\u001b[0;34m(x)\u001b[0m\n\u001b[1;32m      7\u001b[0m Bk \u001b[38;5;241m=\u001b[39m[]\n\u001b[1;32m      8\u001b[0m \u001b[38;5;28;01mfor\u001b[39;00m basis \u001b[38;5;129;01min\u001b[39;00m BKer:\n\u001b[0;32m----> 9\u001b[0m     l \u001b[38;5;241m=\u001b[39m lcm(\u001b[38;5;28mmap\u001b[39m(\u001b[38;5;28;01mlambda\u001b[39;00m x: \u001b[43mFraction\u001b[49m\u001b[43m(\u001b[49m\u001b[43mx\u001b[49m\u001b[43m)\u001b[49m\u001b[38;5;241m.\u001b[39mlimit_denominator()\u001b[38;5;241m.\u001b[39mdenominator,\u001b[38;5;28mmap\u001b[39m(\u001b[38;5;28mstr\u001b[39m,basis)))\n\u001b[1;32m     10\u001b[0m     basis \u001b[38;5;241m=\u001b[39m \u001b[38;5;28mmap\u001b[39m(\u001b[38;5;28mint\u001b[39m,l\u001b[38;5;241m*\u001b[39mbasis)\n\u001b[1;32m     11\u001b[0m     Bk\u001b[38;5;241m.\u001b[39mappend(basis)    \n",
      "File \u001b[0;32m~/opt/miniconda3/lib/python3.8/fractions.py:137\u001b[0m, in \u001b[0;36mFraction.__new__\u001b[0;34m(cls, numerator, denominator, _normalize)\u001b[0m\n\u001b[1;32m    135\u001b[0m m \u001b[38;5;241m=\u001b[39m _RATIONAL_FORMAT\u001b[38;5;241m.\u001b[39mmatch(numerator)\n\u001b[1;32m    136\u001b[0m \u001b[38;5;28;01mif\u001b[39;00m m \u001b[38;5;129;01mis\u001b[39;00m \u001b[38;5;28;01mNone\u001b[39;00m:\n\u001b[0;32m--> 137\u001b[0m     \u001b[38;5;28;01mraise\u001b[39;00m \u001b[38;5;167;01mValueError\u001b[39;00m(\u001b[38;5;124m'\u001b[39m\u001b[38;5;124mInvalid literal for Fraction: \u001b[39m\u001b[38;5;132;01m%r\u001b[39;00m\u001b[38;5;124m'\u001b[39m \u001b[38;5;241m%\u001b[39m\n\u001b[1;32m    138\u001b[0m                      numerator)\n\u001b[1;32m    139\u001b[0m numerator \u001b[38;5;241m=\u001b[39m \u001b[38;5;28mint\u001b[39m(m\u001b[38;5;241m.\u001b[39mgroup(\u001b[38;5;124m'\u001b[39m\u001b[38;5;124mnum\u001b[39m\u001b[38;5;124m'\u001b[39m) \u001b[38;5;129;01mor\u001b[39;00m \u001b[38;5;124m'\u001b[39m\u001b[38;5;124m0\u001b[39m\u001b[38;5;124m'\u001b[39m)\n\u001b[1;32m    140\u001b[0m denom \u001b[38;5;241m=\u001b[39m m\u001b[38;5;241m.\u001b[39mgroup(\u001b[38;5;124m'\u001b[39m\u001b[38;5;124mdenom\u001b[39m\u001b[38;5;124m'\u001b[39m)\n",
      "\u001b[0;31mValueError\u001b[0m: Invalid literal for Fraction: '[-0.766169154228856]'"
     ]
    }
   ],
   "source": [
    "ker_int_basis(A)"
   ]
  },
  {
   "cell_type": "code",
   "execution_count": null,
   "id": "42ead01a",
   "metadata": {},
   "outputs": [],
   "source": []
  }
 ],
 "metadata": {
  "kernelspec": {
   "display_name": "Python 3",
   "language": "python",
   "name": "python3"
  },
  "language_info": {
   "codemirror_mode": {
    "name": "ipython",
    "version": 3
   },
   "file_extension": ".py",
   "mimetype": "text/x-python",
   "name": "python",
   "nbconvert_exporter": "python",
   "pygments_lexer": "ipython3",
   "version": "3.8.13"
  }
 },
 "nbformat": 4,
 "nbformat_minor": 5
}
