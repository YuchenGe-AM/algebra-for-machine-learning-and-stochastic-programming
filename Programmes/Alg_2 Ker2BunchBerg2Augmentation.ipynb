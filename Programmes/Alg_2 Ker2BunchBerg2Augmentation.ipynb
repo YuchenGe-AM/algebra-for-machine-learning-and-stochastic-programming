{
 "cells": [
  {
   "cell_type": "code",
   "execution_count": 1,
   "id": "dfae7096",
   "metadata": {},
   "outputs": [],
   "source": [
    "from sympy import *\n",
    "import matplotlib.pyplot as plt\n",
    "import numpy as np\n",
    "from typing import Callable\n",
    "import itertools\n",
    "import random\n",
    "import time\n",
    "#import sage"
   ]
  },
  {
   "cell_type": "code",
   "execution_count": 2,
   "id": "0b0688b6",
   "metadata": {},
   "outputs": [],
   "source": [
    "# A, b, c\n",
    "A = np.array([[1,0,1,0,1,0,-1,0,0,0],[0,1,0,1,0,1,0,-1,0,0],\n",
    "              [0,0,2,1,0,0,0,0,1,0],[0,0,1,2,0,0,0,0,0,1]])\n",
    "c = np.array([35,40,16,19,47,54,0,0,0,0])"
   ]
  },
  {
   "cell_type": "code",
   "execution_count": 3,
   "id": "f2e84674",
   "metadata": {},
   "outputs": [
    {
     "data": {
      "text/latex": [
       "$\\displaystyle \\left[\\begin{matrix}1 & 0 & 1 & 0 & 1 & 0 & -1 & 0 & 0 & 0\\\\0 & 1 & 0 & 1 & 0 & 1 & 0 & -1 & 0 & 0\\\\0 & 0 & 2 & 1 & 0 & 0 & 0 & 0 & 1 & 0\\\\0 & 0 & 1 & 2 & 0 & 0 & 0 & 0 & 0 & 1\\end{matrix}\\right]$"
      ],
      "text/plain": [
       "Matrix([\n",
       "[1, 0, 1, 0, 1, 0, -1,  0, 0, 0],\n",
       "[0, 1, 0, 1, 0, 1,  0, -1, 0, 0],\n",
       "[0, 0, 2, 1, 0, 0,  0,  0, 1, 0],\n",
       "[0, 0, 1, 2, 0, 0,  0,  0, 0, 1]])"
      ]
     },
     "execution_count": 3,
     "metadata": {},
     "output_type": "execute_result"
    }
   ],
   "source": [
    "Matrix(A)\n"
   ]
  },
  {
   "cell_type": "markdown",
   "id": "af3e27ec",
   "metadata": {},
   "source": [
    "# Pre"
   ]
  },
  {
   "cell_type": "code",
   "execution_count": 4,
   "id": "472fe998",
   "metadata": {},
   "outputs": [],
   "source": [
    "def to_polynomial(coef,vars):\n",
    "            '''\n",
    "            Function to define a single row of the coefficient as a polynomial\n",
    "            '''\n",
    "            res1 = 1\n",
    "            res2 = 1\n",
    "            for i in range(len(coef)):\n",
    "                if coef[i] > 0:\n",
    "                    res1 = res1*vars[i]**coef[i]\n",
    "                elif coef[i] < 0:\n",
    "                    res2 = res2*vars[i]**(-coef[i])\n",
    "            res = res1 - res2\n",
    "            return res"
   ]
  },
  {
   "cell_type": "code",
   "execution_count": 5,
   "id": "2f0174b9",
   "metadata": {},
   "outputs": [],
   "source": [
    "def monomial(p):\n",
    "    return [prod(x**k for x, k in zip(p.gens, mon)) for mon in p.monoms()]"
   ]
  },
  {
   "cell_type": "code",
   "execution_count": 6,
   "id": "e1306e02",
   "metadata": {},
   "outputs": [],
   "source": [
    "# Define symbolic variables xs for each column (index 0 in Python)\n",
    "sym_str_x = 'x:' + str(A.shape[1])\n",
    "xs = symbols(sym_str_x)"
   ]
  },
  {
   "cell_type": "markdown",
   "id": "6b53bed0",
   "metadata": {},
   "source": [
    "# Main"
   ]
  },
  {
   "cell_type": "code",
   "execution_count": 7,
   "id": "c91e06be",
   "metadata": {},
   "outputs": [],
   "source": [
    "def gen(A):\n",
    "    # column/row dimension of a matrix\n",
    "    r = A.shape[0]\n",
    "    n = A.shape[1]\n",
    "    A = np.array(A)\n",
    "    \n",
    "    # Define symbolic variables xs for each column (index 0 in Python)\n",
    "    sym_str_x = 'x:' + str(A.shape[1])\n",
    "    xs = symbols(sym_str_x)\n",
    "    \n",
    "    # Calculate a basis for the kernel\n",
    "    # http://www.numbertheory.org/php/mlll.html\n",
    "    # the website can fix the gap\n",
    "    def Ker(A):\n",
    "        A = Matrix(A)\n",
    "        B = np.array(Matrix(A).nullspace()).transpose()\n",
    "        C = Matrix(B[0]).transpose()\n",
    "        return C\n",
    "    \n",
    "    # find an equivalent basis with all base vectors lying in the same orthant\n",
    "    def same_orthant(A):    \n",
    "        # compute the highest value in abstract value in a numpy natrix\n",
    "        def abs_max(A):\n",
    "            A = np.array(A)\n",
    "            return abs(max(A.min(), A.max(), key=abs))\n",
    "\n",
    "        for i in range(1,A.shape[0]):\n",
    "            A[i,:] = A[i,:]+A[i-1,:]*(1+abs_max(A[i,:]))\n",
    "        A_fin = np.array(A)\n",
    "        A_fin = A_fin.astype(int)\n",
    "        A_fin = Matrix(A_fin)\n",
    "        return A_fin\n",
    "    \n",
    "    # compute J and prepare the function phi & phi_inv\n",
    "    def nega_index(A):\n",
    "        J = [ A[A.shape[0]-1,k]<0 for k in range(0,A.shape[1])]\n",
    "        return J\n",
    "\n",
    "    def reverse_sign(A):\n",
    "        n = A.shape[1]\n",
    "        A = np.array(A)\n",
    "        for i in range(0,n):\n",
    "            if nega_index(A)[i]:\n",
    "                A[:,i] = - A[:,i]\n",
    "        A_fin = A.astype(int)\n",
    "        A_fin = Matrix(A_fin)\n",
    "        return A_fin\n",
    "\n",
    "    def phi(A):\n",
    "        G_J=[]\n",
    "        for k in range(0,A.shape[0]):\n",
    "            G_J.append(to_polynomial(A[k,:],xs))\n",
    "        return G_J\n",
    "\n",
    "    def phi_inv(G_J):\n",
    "        G_J_len = len(G_J)\n",
    "\n",
    "        temp = []\n",
    "        vp = [0]*n\n",
    "        vm = [0]*n\n",
    "        for k in range(0,G_J_len):\n",
    "            for i in range(0,n):\n",
    "                p = monomial(Poly(G_J[k]))[0]\n",
    "                m = monomial(Poly(G_J[k]))[1]\n",
    "                vp[i] = degree(p,xs[i])\n",
    "                vm[i] = degree(m,xs[i])\n",
    "            v = np.array(vp) - np.array(vm)\n",
    "            v = v.astype(int)\n",
    "            temp.append(v)\n",
    "            temp_fin = Matrix(temp)\n",
    "        return temp_fin, temp\n",
    "    \n",
    "    \n",
    "    def TJ_operation(G_J,J):\n",
    "        for j in J:\n",
    "            if j:\n",
    "                # change position of xs[j]\n",
    "                xs_list = list(xs)\n",
    "                index = J.index(j)\n",
    "                J[index] = False\n",
    "                temp = xs_list[index]\n",
    "                xs_list.remove(temp)\n",
    "                xs_list.insert(0,temp)\n",
    "\n",
    "                G_J = list(groebner(G_J, xs_list , order='lex'))\n",
    "\n",
    "                A3, _ = phi_inv(G_J)\n",
    "                A3[:,index] = - A3[:,index]\n",
    "                G_J = phi(A3)\n",
    "\n",
    "        return G_J\n",
    "    \n",
    "   \n",
    "    # MAIN\n",
    "    # generating set for the corresponding matrix kernel\n",
    "    A1 = Ker(A)\n",
    "    \n",
    "    # matrix pre-operation\n",
    "    A2 = same_orthant(A1)\n",
    "    J = nega_index(A2)\n",
    "    A3 = reverse_sign(A2)\n",
    "    \n",
    "    # groebner basis T_J operation\n",
    "    G_J = phi(A3)\n",
    "    G_zero = TJ_operation(G_J,J)\n",
    "    return G_zero"
   ]
  },
  {
   "cell_type": "code",
   "execution_count": null,
   "id": "5ee68bc3",
   "metadata": {},
   "outputs": [],
   "source": []
  },
  {
   "cell_type": "code",
   "execution_count": null,
   "id": "220b3c38",
   "metadata": {},
   "outputs": [],
   "source": []
  },
  {
   "cell_type": "code",
   "execution_count": 8,
   "id": "c795089b",
   "metadata": {},
   "outputs": [],
   "source": [
    "def groeb(G_zero,c):\n",
    "    # column/row dimension of a matrix\n",
    "    n = c.shape[0]\n",
    "    \n",
    "    # Define symbolic variables xs for each column (index 0 in Python)\n",
    "    sym_str_x = 'x:' + str(A.shape[1])\n",
    "    xs = symbols(sym_str_x)\n",
    "\n",
    "    def phi_inv(G_J):\n",
    "        G_J_len = len(G_J)\n",
    "\n",
    "        temp = []\n",
    "        vp = [0]*n\n",
    "        vm = [0]*n\n",
    "        for k in range(0,G_J_len):\n",
    "            for i in range(0,n):\n",
    "                p = monomial(Poly(G_J[k]))[0]\n",
    "                m = monomial(Poly(G_J[k]))[1]\n",
    "                vp[i] = degree(p,xs[i])\n",
    "                vm[i] = degree(m,xs[i])\n",
    "            v = np.array(vp) - np.array(vm)\n",
    "            v = v.astype(int)\n",
    "            temp.append(v)\n",
    "            temp_fin = Matrix(temp)\n",
    "        return temp_fin, temp\n",
    "\n",
    "    # define new order in Sympy\n",
    "    class compositeOrder(polys.orderings.MonomialOrder):\n",
    "        \"\"\"Composite-Lexicographic order of monomials. \"\"\"\n",
    "        alias = 'clex'\n",
    "        is_global = True\n",
    "\n",
    "        def __call__(self, monomial):\n",
    "            return ( np.dot(c,np.array(monomial)),sum(monomial), monomial )\n",
    "            #return ( monomial )\n",
    "    polys.orderings.__all__.append('clex')\n",
    "    clex = compositeOrder()\n",
    "    polys.orderings._monomial_key['clex'] = compositeOrder() \n",
    "    \n",
    "    # apply groebner basis algorithm \n",
    "    G_fin = groebner(G_zero,xs,order='clex')\n",
    "    _ , G_fin = phi_inv(list(G_fin))\n",
    "    return G_fin"
   ]
  },
  {
   "cell_type": "code",
   "execution_count": null,
   "id": "4ff2867e",
   "metadata": {},
   "outputs": [],
   "source": []
  },
  {
   "cell_type": "code",
   "execution_count": null,
   "id": "5badaafb",
   "metadata": {},
   "outputs": [],
   "source": []
  },
  {
   "cell_type": "code",
   "execution_count": null,
   "id": "b1855aff",
   "metadata": {},
   "outputs": [],
   "source": []
  },
  {
   "cell_type": "markdown",
   "id": "650726d4",
   "metadata": {},
   "source": [
    "# Experiment I"
   ]
  },
  {
   "cell_type": "code",
   "execution_count": 9,
   "id": "eb0aa915",
   "metadata": {},
   "outputs": [],
   "source": [
    "def augmentation(z_feas,c,T):\n",
    "    # z_feaas: feasible point ; c: cost; T: universal test set\n",
    "    exist_aug = True\n",
    "    i = 0\n",
    "    while exist_aug:\n",
    "        exist_aug = False\n",
    "        for t in T:\n",
    "            if np.dot(c, t, out=None)>0 and np. all((z_feas-t>=0)):\n",
    "                z_feas = z_feas-t\n",
    "                i = 1+i\n",
    "                #print('Iteration step', i,': vector', z_feas)\n",
    "                exist_aug = True\n",
    "            if np.dot(c, t, out=None)<0 and np. all((z_feas+t>=0)):\n",
    "                z_feas = z_feas+t\n",
    "                i = i+1\n",
    "                #print('Iteration step', i,': vector', z_feas)\n",
    "                exist_aug = True\n",
    "    #print('Achieve an optimum!')\n",
    "    return z_feas"
   ]
  },
  {
   "cell_type": "code",
   "execution_count": 10,
   "id": "ef4e7cb9",
   "metadata": {},
   "outputs": [],
   "source": [
    "def feasible_solu(b):\n",
    "    return [0,0,0,0,b[0],b[1],0,0,b[2],b[3]]"
   ]
  },
  {
   "cell_type": "code",
   "execution_count": 11,
   "id": "ff4c67e3",
   "metadata": {},
   "outputs": [
    {
     "name": "stdout",
     "output_type": "stream",
     "text": [
      "--- 0.12265181541442871 seconds ---\n"
     ]
    }
   ],
   "source": [
    "start_time = time.time()\n",
    "\n",
    "T_1 = gen(A)\n",
    "\n",
    "print(\"--- %s seconds ---\" % (time.time() - start_time))"
   ]
  },
  {
   "cell_type": "code",
   "execution_count": 12,
   "id": "04fa881c",
   "metadata": {},
   "outputs": [],
   "source": [
    "#T_1"
   ]
  },
  {
   "cell_type": "code",
   "execution_count": 13,
   "id": "047bfac7",
   "metadata": {},
   "outputs": [],
   "source": [
    "T_2 = [xs[1]-xs[5],xs[0]-xs[4],xs[5]*xs[7]-1,xs[4]*xs[6]-1,\n",
    "       xs[8]*xs[9]**2-xs[3]*xs[7],xs[8]**2*xs[9]-xs[2]*xs[6],\n",
    "       xs[3]*xs[7]*xs[8]-xs[2]*xs[6]*xs[9],\n",
    "       xs[3]*xs[4]*xs[8]-xs[2]*xs[5]*xs[9],\n",
    "       xs[3]**2*xs[4]*xs[7]**2-xs[2]*xs[9]**3,\n",
    "       xs[2]**2*xs[5]*xs[6]**2-xs[3]*xs[8]**3]\n",
    "\n",
    "#T_2"
   ]
  },
  {
   "cell_type": "code",
   "execution_count": 37,
   "id": "33f5ff2b",
   "metadata": {},
   "outputs": [
    {
     "name": "stdout",
     "output_type": "stream",
     "text": [
      "--- 12.763188123703003 seconds ---\n"
     ]
    }
   ],
   "source": [
    "start_time = time.time()\n",
    "\n",
    "opt = []\n",
    "for i in range(0,600,3):\n",
    "    b = [300+i,300+i,200+10*i,200+10*i]\n",
    "    temp = augmentation(feasible_solu(b),c,groeb(T_2,c))\n",
    "    opt.append(temp)\n",
    "\n",
    "print(\"--- %s seconds ---\" % (time.time() - start_time))"
   ]
  },
  {
   "cell_type": "code",
   "execution_count": 16,
   "id": "5395dcde",
   "metadata": {},
   "outputs": [],
   "source": [
    "#opt"
   ]
  },
  {
   "cell_type": "code",
   "execution_count": null,
   "id": "08096b03",
   "metadata": {},
   "outputs": [],
   "source": []
  },
  {
   "cell_type": "code",
   "execution_count": null,
   "id": "31f8dc49",
   "metadata": {},
   "outputs": [],
   "source": []
  }
 ],
 "metadata": {
  "kernelspec": {
   "display_name": "Python 3",
   "language": "python",
   "name": "python3"
  },
  "language_info": {
   "codemirror_mode": {
    "name": "ipython",
    "version": 3
   },
   "file_extension": ".py",
   "mimetype": "text/x-python",
   "name": "python",
   "nbconvert_exporter": "python",
   "pygments_lexer": "ipython3",
   "version": "3.8.13"
  }
 },
 "nbformat": 4,
 "nbformat_minor": 5
}
