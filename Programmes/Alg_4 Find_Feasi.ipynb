{
 "cells": [
  {
   "cell_type": "code",
   "execution_count": 69,
   "id": "8cd9d6a1",
   "metadata": {},
   "outputs": [],
   "source": [
    "from sympy import *\n",
    "import matplotlib.pyplot as plt\n",
    "import numpy as np\n",
    "from typing import Callable\n",
    "import itertools\n",
    "import random\n",
    "import pyomo\n",
    "\n",
    "# A, b, c\n",
    "A = np.array([[1,0,1,0,1,0,-1,0,0,0],[0,1,0,1,0,1,0,-1,0,0],[0,0,2,1,0,0,0,0,1,0],[0,0,1,2,0,0,0,0,0,1]])\n",
    "b = np.array([60,117,60,9])\n",
    "c = np.array([35,40,16,19,47,54])"
   ]
  },
  {
   "cell_type": "code",
   "execution_count": null,
   "id": "42462656",
   "metadata": {},
   "outputs": [],
   "source": []
  },
  {
   "cell_type": "code",
   "execution_count": null,
   "id": "ff85f9b1",
   "metadata": {},
   "outputs": [],
   "source": []
  },
  {
   "cell_type": "code",
   "execution_count": 39,
   "id": "92db9cea",
   "metadata": {},
   "outputs": [],
   "source": [
    "# find a feasible solution\n",
    "\n",
    "def feasi_solu(A,b):\n",
    "    A = Matrix(A)\n",
    "    # Define symbolic variables xs for each column (index 0 in Python)\n",
    "    sym_str_x = 'x:' + str(A.shape[1])\n",
    "    xs = symbols(sym_str_x)\n",
    "\n",
    "    system = A, b \n",
    "    ans = linsolve(system, xs)\n",
    "    ans = list(list(ans)[0])\n",
    "    \n",
    "    return ans"
   ]
  },
  {
   "cell_type": "code",
   "execution_count": 40,
   "id": "9e79376e",
   "metadata": {},
   "outputs": [
    {
     "data": {
      "text/plain": [
       "[-x4 + x6 + 2*x8/3 - x9/3 + 23,\n",
       " -x5 + x7 - x8/3 + 2*x9/3 + 131,\n",
       " -2*x8/3 + x9/3 + 37,\n",
       " x8/3 - 2*x9/3 - 14,\n",
       " x4,\n",
       " x5,\n",
       " x6,\n",
       " x7,\n",
       " x8,\n",
       " x9]"
      ]
     },
     "execution_count": 40,
     "metadata": {},
     "output_type": "execute_result"
    }
   ],
   "source": [
    "feasi_solu(A,b)"
   ]
  },
  {
   "cell_type": "code",
   "execution_count": null,
   "id": "50f6eefe",
   "metadata": {},
   "outputs": [],
   "source": []
  }
 ],
 "metadata": {
  "kernelspec": {
   "display_name": "Python 3",
   "language": "python",
   "name": "python3"
  },
  "language_info": {
   "codemirror_mode": {
    "name": "ipython",
    "version": 3
   },
   "file_extension": ".py",
   "mimetype": "text/x-python",
   "name": "python",
   "nbconvert_exporter": "python",
   "pygments_lexer": "ipython3",
   "version": "3.8.13"
  }
 },
 "nbformat": 4,
 "nbformat_minor": 5
}
