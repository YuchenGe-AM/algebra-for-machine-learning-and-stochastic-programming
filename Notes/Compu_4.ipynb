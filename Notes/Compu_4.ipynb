{
 "cells": [
  {
   "cell_type": "markdown",
   "id": "ad0696c8",
   "metadata": {},
   "source": [
    "# Second Week Report"
   ]
  },
  {
   "cell_type": "markdown",
   "id": "1b0dc002",
   "metadata": {},
   "source": [
    "$$ \\text{Yuchen Ge} $$"
   ]
  },
  {
   "cell_type": "markdown",
   "id": "817c7a54",
   "metadata": {},
   "source": [
    "# References\n",
    "\n",
    "[1] Li, Can, and Ignacio E. Grossmann. “A Review of Stochastic Programming Methods for Optimization of Process Systems under Uncertainty.” Frontiers in Chemical Engineering, vol. 2, 2021, https://doi.org/10.3389/fceng.2020.622241. \n",
    "\n",
    "[2] Hemmecke, R., and R. Schultz. “Decomposition of Test Sets in Stochastic Integer Programming.” Mathematical Programming, vol. 94, no. 2-3, 2003, pp. 323–341., https://doi.org/10.1007/s10107-002-0322-1. "
   ]
  },
  {
   "cell_type": "markdown",
   "id": "ef95fceb",
   "metadata": {},
   "source": [
    "# Intro"
   ]
  },
  {
   "cell_type": "markdown",
   "id": "6a8ec06c",
   "metadata": {},
   "source": [
    "Stochastic programming, also known as stochastic optimization (Birge and Louveaux, 2011), is a mathematical framework to model decision-making under uncertainty.[1]"
   ]
  },
  {
   "cell_type": "markdown",
   "id": "8c3bc7a1",
   "metadata": {},
   "source": [
    "Again we are trying to deal with the two-stage mixed-integer linear stochastic program\n",
    "\n",
    "$$\\text{SIP}: \\min \\left\\{h^{T} x+Q(x): A x=a, x \\in X\\right\\}$$\n",
    "\n",
    "where\n",
    "\n",
    "$$Q(x):=\\int_{\\mathbb{R}^{s}} \\Phi(\\xi-T x) \\mu(d \\xi)$$\n",
    "\n",
    "and\n",
    "\n",
    "$$\\Phi(\\tau):=\\min \\left\\{q^{T} y: W y=\\tau, y \\in Y\\right\\}$$.\n",
    "\n",
    "Here,  $X \\subseteq \\mathbb{R}^{m}$  and  $Y \\subseteq \\mathbb{R}^{n}$ denote the non-negative orthants, possibly involving integer requirements to variables. The measure $\\mu$  is a Borel probability measure on $\\mathbb{R}^{s}$, and all the remaining data have conformal dimensions."
   ]
  },
  {
   "cell_type": "markdown",
   "id": "8ed4ae16",
   "metadata": {},
   "source": [
    "**** \n",
    "\n",
    "Assume that  $\\mu$  is a discrete probability measure with finitely many realizations (or scenarios)  $\\xi^{1}, \\ldots, \\xi^{N}$  and probabilities  $\\pi^{1}, \\ldots, \\pi^{N}$ . Then SIP is equivalent to the mixed-integer linear program\n",
    "$$\n",
    "\\min \\left\\{h^{T} x+\\sum_{\\nu=1}^{N} \\pi^{\\nu} q^{T} y^{\\nu}: A x=a, x \\in X, T x+W y^{\\nu}=\\xi^{\\nu}, y^{\\nu} \\in Y, \\nu=1, \\ldots, N\\right\\}\n",
    "$$"
   ]
  },
  {
   "cell_type": "markdown",
   "id": "ee1561ba",
   "metadata": {},
   "source": [
    "position approaches (cf. [19] for a recent survey). So far, two main lines of research have been pursued in decomposition of stochastic integer programs: (primal) decomposition by rows and (dual) decomposition by columns of the constraint matrix of (4) whose block-angular structure is depicted in Figure  1 .\n",
    "\n",
    "\\begin{array}{|c|c|c|ccc|c|}\n",
    "\\hline A \\\\\n",
    "\\hline T & W \\\\\n",
    "\\hline T  &  & W  \\\\\n",
    "\\hline \\vdots & & &  \\ddots \\\\\n",
    " \\vdots & & & & \\ddots \\\\\n",
    " \\vdots & & & & & \\ddots \\\\\n",
    "\\hline T & & & & & & W\\\\\n",
    "\\hline\n",
    "\\end{array}"
   ]
  },
  {
   "cell_type": "markdown",
   "id": "110c65ad",
   "metadata": {},
   "source": [
    "To avoid notation issue, we let\n",
    "$$(\\text{IP})_{c, b}: \\quad \\min \\left\\{c^{\\top} z: A z=b, z \\in \\mathbb{Z}_{+}^{d}\\right\\}$$\n",
    "\n",
    "**Def1 :** A set  $\\mathcal{T}$  is called a universal test set for the family of problems  $(\\text{IP})_{c, b}$  as  $b \\in \\mathbb{R}^{l}$  and $ c \\in \\mathbb{R}^{d}$  vary if it contains a test set  $\\mathcal{T}_{c}$  for every  $c \\in \\mathbb{R}^{d}$."
   ]
  },
  {
   "cell_type": "code",
   "execution_count": null,
   "id": "afcdf1c2",
   "metadata": {},
   "outputs": [],
   "source": []
  }
 ],
 "metadata": {
  "kernelspec": {
   "display_name": "Python 3",
   "language": "python",
   "name": "python3"
  },
  "language_info": {
   "codemirror_mode": {
    "name": "ipython",
    "version": 3
   },
   "file_extension": ".py",
   "mimetype": "text/x-python",
   "name": "python",
   "nbconvert_exporter": "python",
   "pygments_lexer": "ipython3",
   "version": "3.8.13"
  }
 },
 "nbformat": 4,
 "nbformat_minor": 5
}
